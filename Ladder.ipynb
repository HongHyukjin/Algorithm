{
 "cells": [
  {
   "cell_type": "code",
   "execution_count": 25,
   "metadata": {},
   "outputs": [],
   "source": [
    "def modified(v,h,l):\n",
    "    arr = []\n",
    "    for i in range(int(h)):\n",
    "        arr.append(input().split())\n",
    "    need = 0\n",
    "    new = []\n",
    "    for i in range(int(h)):\n",
    "        new.append(arr[i][1])\n",
    "    for i in range(int(h)):\n",
    "        new[i] = int(new[i])\n",
    "    result = 0\n",
    "    for i in range(int(h)):\n",
    "        if(new.count(i)%2==1):\n",
    "            result+=1\n",
    "    return result"
   ]
  },
  {
   "cell_type": "code",
   "execution_count": 27,
   "metadata": {},
   "outputs": [
    {
     "name": "stdout",
     "output_type": "stream",
     "text": [
      "5 6 6\n",
      "1 1\n",
      "3 1\n",
      "5 2\n",
      "4 3\n",
      "2 3\n",
      "1 4\n",
      "2\n"
     ]
    }
   ],
   "source": [
    "v,h,l = input().split()\n",
    "v = int(v)\n",
    "h = int(h)\n",
    "l = int(l)\n",
    "result = modified(v,h,l)\n",
    "print(result)"
   ]
  }
 ],
 "metadata": {
  "kernelspec": {
   "display_name": "Python 3",
   "language": "python",
   "name": "python3"
  },
  "language_info": {
   "codemirror_mode": {
    "name": "ipython",
    "version": 3
   },
   "file_extension": ".py",
   "mimetype": "text/x-python",
   "name": "python",
   "nbconvert_exporter": "python",
   "pygments_lexer": "ipython3",
   "version": "3.7.6"
  }
 },
 "nbformat": 4,
 "nbformat_minor": 2
}
