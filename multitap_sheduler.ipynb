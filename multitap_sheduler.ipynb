{
 "cells": [
  {
   "cell_type": "code",
   "execution_count": 79,
   "metadata": {},
   "outputs": [
    {
     "name": "stdout",
     "output_type": "stream",
     "text": [
      "2 7\n",
      "2 3 2 3 1 2 7\n"
     ]
    }
   ],
   "source": [
    "plug, using = input().split()\n",
    "plug = int(plug)#멀티플러그 개수\n",
    "using = int(using)#전자기기 사용횟수\n",
    "\n",
    "task = [0 for i in range(using)]\n",
    "task_test = [0 for i in range(using)]\n",
    "task = input().split()\n",
    "for i in range(using):\n",
    "    task[i] = int(task[i])\n",
    "    task_test[i] = int(task[i])"
   ]
  },
  {
   "cell_type": "code",
   "execution_count": 80,
   "metadata": {},
   "outputs": [],
   "source": [
    "def count_max(task):\n",
    "    result = [0 for i in range(len(task))]\n",
    "    idx = 0\n",
    "    for i in range(len(task)):\n",
    "        result[i] = task.count(task[i])\n",
    "    \n",
    "    result_return = max(result)\n",
    "    for idx in range(len(task)):\n",
    "        if(result_return == task.count(task[idx])):\n",
    "            return idx#가장 많은 수의 인덱스 표출"
   ]
  },
  {
   "cell_type": "code",
   "execution_count": 81,
   "metadata": {},
   "outputs": [
    {
     "name": "stdout",
     "output_type": "stream",
     "text": [
      "[2, 3, 1, 7]\n",
      "4\n"
     ]
    }
   ],
   "source": [
    "classification = []\n",
    "classifi_flag = 0\n",
    "\n",
    "for i in range(len(task)):\n",
    "    if(classification.count(task[i]) == 0):\n",
    "        classification.append(task[i])\n",
    "        classifi_flag+=1\n",
    "        \n",
    "print(classification)#다른 인트 개수 분별 리스트\n",
    "print(classifi_flag)#다른 인트 개수"
   ]
  },
  {
   "cell_type": "code",
   "execution_count": 82,
   "metadata": {},
   "outputs": [
    {
     "name": "stdout",
     "output_type": "stream",
     "text": [
      "[2, 3, 2, 3, 1, 2, 7]\n",
      "[3, 3, 1, 7]\n",
      "[1, 7]\n",
      "[7]\n",
      "[2, 3, 1, 7]\n"
     ]
    }
   ],
   "source": [
    "greedy = 0\n",
    "final_tap = []\n",
    "remove = 0\n",
    "for i in range(classifi_flag):\n",
    "    print(task)\n",
    "    greedy = count_max(task)\n",
    "    final_tap.append(task[greedy])\n",
    "    remove = task[greedy]\n",
    "    for j in range(task.count(remove)):\n",
    "        task.remove(remove)\n",
    "\n",
    "print(final_tap)"
   ]
  },
  {
   "cell_type": "code",
   "execution_count": 83,
   "metadata": {},
   "outputs": [
    {
     "name": "stdout",
     "output_type": "stream",
     "text": [
      "[0, 0] [0, 0]\n"
     ]
    }
   ],
   "source": [
    "final_real = [0 for i in range(plug)]#멀티사용\n",
    "final_fake = [0 for i in range(classifi_flag-plug)]#멀티초과\n",
    "\n",
    "print(final_real, final_fake)"
   ]
  },
  {
   "cell_type": "code",
   "execution_count": 84,
   "metadata": {},
   "outputs": [
    {
     "name": "stdout",
     "output_type": "stream",
     "text": [
      "[2, 3] [1, 7]\n"
     ]
    }
   ],
   "source": [
    "for i in range(len(final_real)):\n",
    "    final_real[i] = final_tap[i]\n",
    "for i in range(len(final_real),len(final_real)+len(final_fake)):\n",
    "    final_fake[i-len(final_real)] = final_tap[i]\n",
    "    \n",
    "print(final_real, final_fake)"
   ]
  },
  {
   "cell_type": "code",
   "execution_count": 86,
   "metadata": {},
   "outputs": [
    {
     "name": "stdout",
     "output_type": "stream",
     "text": [
      "2\n"
     ]
    }
   ],
   "source": [
    "optimizing = 0\n",
    "tmp = 0\n",
    "for i in range(using):\n",
    "    if(final_real.count(task_test[i]) != 1):\n",
    "        tmp = final_real[-1]\n",
    "        final_real[-1] = task_test[i]\n",
    "        final_fake.remove(task_test[i])\n",
    "        final_fake.append(tmp)\n",
    "        optimizing+=1\n",
    "        \n",
    "print(optimizing)"
   ]
  }
 ],
 "metadata": {
  "kernelspec": {
   "display_name": "Python 3",
   "language": "python",
   "name": "python3"
  },
  "language_info": {
   "codemirror_mode": {
    "name": "ipython",
    "version": 3
   },
   "file_extension": ".py",
   "mimetype": "text/x-python",
   "name": "python",
   "nbconvert_exporter": "python",
   "pygments_lexer": "ipython3",
   "version": "3.7.6"
  }
 },
 "nbformat": 4,
 "nbformat_minor": 2
}
