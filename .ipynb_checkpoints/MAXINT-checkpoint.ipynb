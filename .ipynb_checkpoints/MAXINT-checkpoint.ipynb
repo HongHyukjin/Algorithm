{
 "cells": [
  {
   "cell_type": "markdown",
   "metadata": {},
   "source": [
    "프로그래머스 42746 : 가장 큰 수\n",
    "\n",
    "0 또는 양의 정수가 주어졌을 때, \n",
    "정수를 이어 붙여 만들 수 있는 가장 큰 수를 알아내 주세요.\n",
    "\n",
    "예를 들어, 주어진 정수가 [6, 10, 2]라면 [6102, 6210, 1062, 1026, 2610, 2106]를 만들 수 있고, \n",
    "이중 가장 큰 수는 6210입니다."
   ]
  },
  {
   "cell_type": "raw",
   "metadata": {},
   "source": [
    "# 문제해결절차\n",
    "1.데이터입력부 - 리스트에 정리저장\n",
    "2.숫자길이별 리스트 정리저장\n",
    "3.각 수의 가장 좌측숫자(해당 숫자가 가지는 최고단위의 한자리정수)를 앞에 배치하는 것(핵심 : 해야할 일)\n",
    "4.자릿수 맞춰 각 리스트 대푯값 비교진행\n",
    "5.최고값 최종배열에 저장 및 기존배열내 원소삭제\n",
    "6.프로세스 종료시까지 반복 후, 종료"
   ]
  },
  {
   "cell_type": "code",
   "execution_count": 86,
   "metadata": {},
   "outputs": [
    {
     "name": "stdout",
     "output_type": "stream",
     "text": [
      "0번째 원소를 입력하세요 : 457\n",
      "1번째 원소를 입력하세요 : 865\n",
      "2번째 원소를 입력하세요 : 24\n",
      "3번째 원소를 입력하세요 : 76\n",
      "4번째 원소를 입력하세요 : 3\n",
      "5번째 원소를 입력하세요 : 9\n",
      "6번째 원소를 입력하세요 : 10000\n",
      "[457, 865, 24, 76, 3, 9, 0, 0, 0, 0]\n"
     ]
    }
   ],
   "source": [
    "numbers = [0]*10\n",
    "\n",
    "for i in range(10):\n",
    "    thing = int(input(str(i)+\"번째 원소를 입력하세요 : \"))\n",
    "    if((thing > 1000) or (thing < 0)):\n",
    "        break;\n",
    "    else:\n",
    "        numbers[i] = thing\n",
    "        \n",
    "print(numbers)"
   ]
  },
  {
   "cell_type": "code",
   "execution_count": 87,
   "metadata": {},
   "outputs": [
    {
     "name": "stdout",
     "output_type": "stream",
     "text": [
      "[457, 865, 24, 76, 3, 9, 0, 0, 0, 0]\n",
      "[865, 457, 0, 0, 0, 0, 0, 0, 0, 0]\n",
      "[76, 24, 0, 0, 0, 0, 0, 0, 0, 0]\n",
      "[9, 3, 0, 0, 0, 0, 0, 0, 0, 0]\n"
     ]
    }
   ],
   "source": [
    "#100자리\n",
    "numbers_hundred = [0]*10\n",
    "h=0\n",
    "#10자리\n",
    "numbers_ten = [0]*10\n",
    "t=0\n",
    "#1자리\n",
    "numbers_one = [0]*10\n",
    "o=0\n",
    "\n",
    "for i in range(len(numbers)):\n",
    "    if((numbers[i]//100) >= 1):\n",
    "        numbers_hundred[h] = numbers[i]\n",
    "        h+=1\n",
    "    elif((numbers[i]//10) >= 1):\n",
    "        numbers_ten[t] = numbers[i]\n",
    "        t+=1\n",
    "    elif((numbers[i]//1) >= 1):\n",
    "        numbers_one[o] = numbers[i]\n",
    "        o+=1\n",
    "        \n",
    "numbers_hundred.sort(reverse=True)\n",
    "numbers_ten.sort(reverse=True)\n",
    "numbers_one.sort(reverse=True)\n",
    "\n",
    "print(numbers)\n",
    "print(numbers_hundred)\n",
    "print(numbers_ten)\n",
    "print(numbers_one)"
   ]
  },
  {
   "cell_type": "code",
   "execution_count": 88,
   "metadata": {},
   "outputs": [],
   "source": [
    "def list_preprocessing(array):\n",
    "    while(1):\n",
    "        if((array.count(0))>0):\n",
    "            array.remove(0)\n",
    "        else:\n",
    "            return array"
   ]
  },
  {
   "cell_type": "code",
   "execution_count": 89,
   "metadata": {},
   "outputs": [
    {
     "name": "stdout",
     "output_type": "stream",
     "text": [
      "[865, 457]\n",
      "[760, 240]\n",
      "[900, 300]\n"
     ]
    }
   ],
   "source": [
    "list_preprocessing(numbers_hundred)\n",
    "list_preprocessing(numbers_ten)\n",
    "list_preprocessing(numbers_one)\n",
    "\n",
    "#자리수 맞추기 배수\n",
    "i=0\n",
    "for i in range(len(numbers_ten)):\n",
    "    numbers_ten[i] *= 10\n",
    "    \n",
    "i=0\n",
    "for i in range(len(numbers_one)):\n",
    "    numbers_one[i] *= 100\n",
    "    \n",
    "print(numbers_hundred)\n",
    "print(numbers_ten)\n",
    "print(numbers_one)"
   ]
  },
  {
   "cell_type": "code",
   "execution_count": 90,
   "metadata": {},
   "outputs": [
    {
     "name": "stdout",
     "output_type": "stream",
     "text": [
      "[865, 457]\n",
      "[760, 240]\n",
      "[900, 300]\n",
      "-----------\n",
      "[865, 457]\n",
      "[760, 240]\n",
      "[300]\n",
      "-----------\n",
      "[457]\n",
      "[760, 240]\n",
      "[300]\n",
      "-----------\n",
      "[457]\n",
      "[240]\n",
      "[300]\n",
      "-----------\n",
      "[0]\n",
      "[240]\n",
      "[300]\n",
      "-----------\n",
      "[0]\n",
      "[240]\n",
      "[0]\n",
      "-----------\n",
      "['9', '865', '76', '457', '3', '24']\n"
     ]
    }
   ],
   "source": [
    "#리셋\n",
    "numbers = [0]\n",
    "#총 리스트들중 MAX값만 뽑아내기\n",
    "while(1):\n",
    "    print(numbers_hundred)\n",
    "    print(numbers_ten)\n",
    "    print(numbers_one)\n",
    "    print('-----------')\n",
    "    if((max(numbers_hundred)>max(numbers_ten)) and (max(numbers_hundred)>max(numbers_one))):\n",
    "        numbers.append(str(max(numbers_hundred)))\n",
    "        del numbers_hundred[0]\n",
    "        if(len(numbers_hundred)==0):\n",
    "            numbers_hundred = [0]\n",
    "        numbers_hundred.sort(reverse=True)\n",
    "    elif((max(numbers_ten)>max(numbers_hundred)) and (max(numbers_ten)>max(numbers_one))):\n",
    "        numbers.append(str(max(numbers_ten)//10))\n",
    "        del numbers_ten[0]\n",
    "        if(len(numbers_ten)==0):\n",
    "            numbers_ten = [0]\n",
    "        numbers_ten.sort(reverse=True)\n",
    "    elif((max(numbers_one)>max(numbers_hundred)) and (max(numbers_one)>max(numbers_ten))):\n",
    "        numbers.append(str(max(numbers_one)//100))\n",
    "        del numbers_one[0]\n",
    "        if(len(numbers_one)==0):\n",
    "            numbers_one = [0]\n",
    "        numbers_one.sort(reverse=True)\n",
    "    if((numbers_hundred.count(0)==1) and (numbers_ten.count(0)==1) and (numbers_one.count(0)==1)):\n",
    "        break\n",
    "\n",
    "numbers.remove(0)\n",
    "print(numbers)"
   ]
  },
  {
   "cell_type": "code",
   "execution_count": 94,
   "metadata": {},
   "outputs": [
    {
     "name": "stdout",
     "output_type": "stream",
     "text": [
      "986576457324\n"
     ]
    }
   ],
   "source": [
    "result = ''\n",
    "i=0\n",
    "for i in range(len(numbers)):\n",
    "    result+=numbers[i]\n",
    "    \n",
    "print(result)"
   ]
  }
 ],
 "metadata": {
  "kernelspec": {
   "display_name": "Python 3",
   "language": "python",
   "name": "python3"
  },
  "language_info": {
   "codemirror_mode": {
    "name": "ipython",
    "version": 3
   },
   "file_extension": ".py",
   "mimetype": "text/x-python",
   "name": "python",
   "nbconvert_exporter": "python",
   "pygments_lexer": "ipython3",
   "version": "3.7.4"
  }
 },
 "nbformat": 4,
 "nbformat_minor": 2
}
