{
 "cells": [
  {
   "cell_type": "raw",
   "metadata": {},
   "source": [
    "백준 8892 : 팰린드롬\n",
    "    \n",
    "팰린드롬은 어느 방향으로 읽어도 항상 같은 방법으로 읽을 수 있는 단어이다. \n",
    "예를 들어, civic, radar, rotor, madam은 팰린드롬이다.\n",
    "상근이는 단어 k개 적혀있는 공책을 발견했다. \n",
    "공책의 단어는 ICPC 문제가 저장되어 있는 서버에 접속할 수 있는 비밀번호에 대한 힌트이다. \n",
    "비밀번호는 k개의 단어 중에서 두 단어를 합쳐야 되고, 팰린드롬이어야 한다. \n",
    "예를 들어, 단어가 aaba, ba, ababa, bbaa, baaba일 때, ababa와 ba를 합치면 팰린드롬 abababa를 찾을 수 있다.\n",
    "단어 k개 주어졌을 때, 팰린드롬을 찾는 프로그램을 작성하시오."
   ]
  },
  {
   "cell_type": "raw",
   "metadata": {},
   "source": [
    "문제해결\n",
    "1.데이터입력부\n",
    "2.중복조합을 사용하여 총케이스 찾기\n",
    "3.팰린드롬함수(리버스와 대조)\n",
    "4.데이터출력부(결과)"
   ]
  },
  {
   "cell_type": "code",
   "execution_count": 46,
   "metadata": {},
   "outputs": [
    {
     "name": "stdout",
     "output_type": "stream",
     "text": [
      "2\n",
      "5\n",
      "[[0, 0, 0, 0, 0]]\n",
      "aaba\n",
      "ba\n",
      "ababa\n",
      "bbaa\n",
      "baaba\n",
      "3\n",
      "[['aaba', 'ba', 'ababa', 'bbaa', 'baaba'], [0, 0, 0]]\n",
      "abc\n",
      "bcd\n",
      "cde\n",
      "[['aaba', 'ba', 'ababa', 'bbaa', 'baaba'], ['abc', 'bcd', 'cde']]\n"
     ]
    }
   ],
   "source": [
    "casearr = []\n",
    "case = int(input())\n",
    "for i in range(case):\n",
    "    casearr.append(int(input()))\n",
    "    casearr[i] = [0]*casearr[i]\n",
    "    print(casearr)\n",
    "    for j in range(len(casearr[i])):\n",
    "         casearr[i][j] = input()\n",
    "            \n",
    "print(casearr)"
   ]
  },
  {
   "cell_type": "code",
   "execution_count": 47,
   "metadata": {},
   "outputs": [
    {
     "name": "stdout",
     "output_type": "stream",
     "text": [
      "[['aaba', 'ba', 'ababa', 'bbaa', 'baaba'], ['abc', 'bcd', 'cde']]\n"
     ]
    }
   ],
   "source": [
    "casearrc = casearr.copy()#실사용 리스트\n",
    "print(casearrc)"
   ]
  },
  {
   "cell_type": "markdown",
   "metadata": {},
   "source": [
    "#중복조합으로 총케이스(반복횟수)찾기\n",
    "#팰린드롬함수 정의하기"
   ]
  },
  {
   "cell_type": "code",
   "execution_count": 48,
   "metadata": {},
   "outputs": [],
   "source": [
    "def same(string):\n",
    "    reverse=''\n",
    "    for i in range(1,len(string)+1):\n",
    "        reverse+=string[-i]\n",
    "    if(string == reverse):\n",
    "        return True\n",
    "    else:\n",
    "        return False"
   ]
  },
  {
   "cell_type": "code",
   "execution_count": 49,
   "metadata": {},
   "outputs": [],
   "source": [
    "def palindrome(target):\n",
    "    combine = 0\n",
    "    for i in range(len(target)):\n",
    "        for j in range(0,i):\n",
    "            if(i==j):\n",
    "                break\n",
    "            combine = target[i]+target[j]\n",
    "            judge = same(combine)\n",
    "            if(judge):\n",
    "                return combine\n",
    "            combine = target[j]+target[i]\n",
    "            judge = same(combine)\n",
    "            if(judge):\n",
    "                return combine\n",
    "        for j in range(i+1,len(target)):\n",
    "            if(i==j):\n",
    "                break\n",
    "            combine = target[i]+target[j]\n",
    "            judge = same(combine)\n",
    "            if(judge):\n",
    "                return combine\n",
    "            combine = target[j]+target[i]\n",
    "            judge = same(combine)\n",
    "            if(judge):\n",
    "                return combine"
   ]
  },
  {
   "cell_type": "code",
   "execution_count": 50,
   "metadata": {},
   "outputs": [
    {
     "name": "stdout",
     "output_type": "stream",
     "text": [
      "abababa\n",
      "None\n"
     ]
    }
   ],
   "source": [
    "for i in range(len(casearr)):\n",
    "    combine = palindrome(casearr[i])\n",
    "    print(combine)"
   ]
  }
 ],
 "metadata": {
  "kernelspec": {
   "display_name": "Python 3",
   "language": "python",
   "name": "python3"
  },
  "language_info": {
   "codemirror_mode": {
    "name": "ipython",
    "version": 3
   },
   "file_extension": ".py",
   "mimetype": "text/x-python",
   "name": "python",
   "nbconvert_exporter": "python",
   "pygments_lexer": "ipython3",
   "version": "3.7.4"
  }
 },
 "nbformat": 4,
 "nbformat_minor": 2
}
