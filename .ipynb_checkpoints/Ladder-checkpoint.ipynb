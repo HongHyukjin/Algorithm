{
 "cells": [
  {
   "cell_type": "raw",
   "metadata": {},
   "source": [
    "백준 15684 : 사다리 조작\n",
    "\n",
    "사다리 게임은 N개의 세로선과 M개의 가로선으로 이루어져 있다. 인접한 세로선 사이에는 가로선을 놓을 수 있는데, 각각의 세로선마다 가로선을 놓을 수 있는 위치의 개수는 H이고, 모든 세로선이 같은 위치를 갖는다. 아래 그림은 N = 5, H = 6 인 경우의 그림이고, 가로선은 없다.\n",
    "\n",
    "가로선은 인접한 두 세로선을 연결해야 한다. 단, 두 가로선이 연속하거나 서로 접하면 안 된다. 또, 가로선은 점선 위에 있어야 한다.\n",
    "\n",
    "가로선은 인접한 두 세로선을 연결해야 하고, 가로선을 놓을 수 있는 위치를 연결해야 한다.\n",
    "\n",
    "사다리 게임은 각각의 세로선마다 게임을 진행하고, 세로선의 가장 위에서부터 아래 방향으로 내려가야 한다. 이때, 가로선을 만나면 가로선을 이용해 옆 세로선으로 이동한 다음, 이동한 세로선에서 아래 방향으로 이동해야 한다.\n",
    "\n",
    "사다리에 가로선을 추가해서, 사다리 게임의 결과를 조작하려고 한다. 이때, i번 세로선의 결과가 i번이 나와야 한다. 그렇게 하기 위해서 추가해야 하는 가로선 개수의 최솟값을 구하는 프로그램을 작성하시오."
   ]
  },
  {
   "cell_type": "raw",
   "metadata": {},
   "source": [
    "문제해결\n",
    "1.데이터 입력받기(세로선, 가로선, 가로선삽입가능 위치)\n",
    "2.두 세로선 사이 가로선이 짝수가 되어야 IO가 동일(규칙찾기)\n",
    "2-1.이를 함수로 구현\n",
    "3.결과출력"
   ]
  },
  {
   "cell_type": "code",
   "execution_count": 25,
   "metadata": {},
   "outputs": [],
   "source": [
    "def modified(v,h,l):\n",
    "    arr = []\n",
    "    for i in range(int(h)):\n",
    "        arr.append(input().split())\n",
    "    need = 0\n",
    "    new = []\n",
    "    for i in range(int(h)):\n",
    "        new.append(arr[i][1])\n",
    "    for i in range(int(h)):\n",
    "        new[i] = int(new[i])\n",
    "    result = 0\n",
    "    for i in range(int(h)):\n",
    "        if(new.count(i)%2==1):\n",
    "            result+=1\n",
    "    return result"
   ]
  },
  {
   "cell_type": "code",
   "execution_count": 27,
   "metadata": {},
   "outputs": [
    {
     "name": "stdout",
     "output_type": "stream",
     "text": [
      "5 6 6\n",
      "1 1\n",
      "3 1\n",
      "5 2\n",
      "4 3\n",
      "2 3\n",
      "1 4\n",
      "2\n"
     ]
    }
   ],
   "source": [
    "v,h,l = input().split()\n",
    "v = int(v)\n",
    "h = int(h)\n",
    "l = int(l)\n",
    "result = modified(v,h,l)\n",
    "print(result)"
   ]
  }
 ],
 "metadata": {
  "kernelspec": {
   "display_name": "Python 3",
   "language": "python",
   "name": "python3"
  },
  "language_info": {
   "codemirror_mode": {
    "name": "ipython",
    "version": 3
   },
   "file_extension": ".py",
   "mimetype": "text/x-python",
   "name": "python",
   "nbconvert_exporter": "python",
   "pygments_lexer": "ipython3",
   "version": "3.7.4"
  }
 },
 "nbformat": 4,
 "nbformat_minor": 2
}
