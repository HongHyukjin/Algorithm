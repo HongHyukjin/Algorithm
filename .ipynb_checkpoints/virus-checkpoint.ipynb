{
 "cells": [
  {
   "cell_type": "raw",
   "metadata": {},
   "source": [
    "백준 2606 : 바이러스\n",
    "\n",
    "신종 바이러스인 웜 바이러스는 네트워크를 통해 전파된다. \n",
    "한 컴퓨터가 웜 바이러스에 걸리면 그 컴퓨터와 네트워크 상에서 연결되어 있는 모든 컴퓨터는 웜 바이러스에 걸리게 된다.\n",
    "예를 들어 7대의 컴퓨터가 <그림 1>과 같이 네트워크 상에서 연결되어 있다고 하자. \n",
    "1번 컴퓨터가 웜 바이러스에 걸리면 웜 바이러스는 2번과 5번 컴퓨터를 거쳐 3번과 6번 컴퓨터까지 전파되어 2, 3, 5, 6 네 대의 컴퓨터는 웜 바이러스에 걸리게 된다. \n",
    "하지만 4번과 7번 컴퓨터는 1번 컴퓨터와 네트워크상에서 연결되어 있지 않기 때문에 영향을 받지 않는다.\n",
    "어느 날 1번 컴퓨터가 웜 바이러스에 걸렸다. \n",
    "컴퓨터의 수와 네트워크 상에서 서로 연결되어 있는 정보가 주어질 때, \n",
    "1번 컴퓨터를 통해 웜 바이러스에 걸리게 되는 컴퓨터의 수를 출력하는 프로그램을 작성하시오."
   ]
  },
  {
   "cell_type": "raw",
   "metadata": {},
   "source": [
    "문제해결\n",
    "1.데이터입력부(총 컴퓨터 수, 연결관계)\n",
    "2.같은 구조의 감염여부를 확인하는 배열생성\n",
    "3.반복문과 조건문을 사용해 감별\n",
    "4.감염여부배열의 감염대수 확인 및 출력"
   ]
  },
  {
   "cell_type": "code",
   "execution_count": 4,
   "metadata": {},
   "outputs": [
    {
     "name": "stdout",
     "output_type": "stream",
     "text": [
      "총 컴퓨터 수 :7\n",
      "총 연결쌍 수 :6\n"
     ]
    }
   ],
   "source": [
    "total = int(input('총 컴퓨터 수 :'))\n",
    "pair = int(input('총 연결쌍 수 :'))"
   ]
  },
  {
   "cell_type": "code",
   "execution_count": 5,
   "metadata": {},
   "outputs": [
    {
     "name": "stdout",
     "output_type": "stream",
     "text": [
      "1 2\n",
      "2 3\n",
      "1 5\n",
      "5 2\n",
      "5 6\n",
      "4 7\n",
      "[[1, 2], [2, 3], [1, 5], [5, 2], [5, 6], [4, 7]]\n"
     ]
    }
   ],
   "source": [
    "connect = []\n",
    "for i in range(pair):\n",
    "    tmp = input().split()\n",
    "    for j in range(len(tmp)):\n",
    "        tmp[j] = int(tmp[j])\n",
    "    connect.append(tmp)\n",
    "print(connect)"
   ]
  },
  {
   "cell_type": "code",
   "execution_count": 18,
   "metadata": {},
   "outputs": [
    {
     "name": "stdout",
     "output_type": "stream",
     "text": [
      "4\n"
     ]
    }
   ],
   "source": [
    "infested = connect\n",
    "for i in range(len(connect)):\n",
    "    for j in range(len(connect[0])):\n",
    "        if(connect[i][j] == 1):\n",
    "            infested[i][j-1] = True\n",
    "        elif(infested[i][j] == True):\n",
    "            infested[i][j-1] = True\n",
    "\n",
    "result = 0\n",
    "for i in range(len(connect)):\n",
    "    for j in range(len(connect[0])):\n",
    "        if(connect[i][j] == True):\n",
    "            result+=1\n",
    "            \n",
    "print(result)"
   ]
  }
 ],
 "metadata": {
  "kernelspec": {
   "display_name": "Python 3",
   "language": "python",
   "name": "python3"
  },
  "language_info": {
   "codemirror_mode": {
    "name": "ipython",
    "version": 3
   },
   "file_extension": ".py",
   "mimetype": "text/x-python",
   "name": "python",
   "nbconvert_exporter": "python",
   "pygments_lexer": "ipython3",
   "version": "3.7.4"
  }
 },
 "nbformat": 4,
 "nbformat_minor": 2
}
