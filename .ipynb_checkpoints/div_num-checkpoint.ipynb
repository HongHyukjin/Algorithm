{
 "cells": [
  {
   "cell_type": "raw",
   "metadata": {},
   "source": [
    "백준 8394 : 악수\n",
    "회의가 끝났고, 이제 악수를 하는 시간이다. \n",
    "모든 사람은 직사각형 탁자 하나의 한 면에 앉아있다.\n",
    "자리를 벗어나지 않고 악수를 하는 방법의 수는 총 몇 가지일까?\n",
    "각 사람들은 자신의 왼쪽이나 오른쪽에 있는 사람들과 악수를 할 수 있다. \n",
    "(안 할 수도 있다)"
   ]
  },
  {
   "cell_type": "raw",
   "metadata": {},
   "source": [
    "문제해결\n",
    "1.데이터 입력부\n",
    "2.악수X와 1번씩일때(조합)\n",
    "3.2번이상=>2개를 하나의 점으로 묶어생각\n",
    "4.데이터 출력부"
   ]
  },
  {
   "cell_type": "code",
   "execution_count": 9,
   "metadata": {},
   "outputs": [
    {
     "name": "stdout",
     "output_type": "stream",
     "text": [
      "3\n"
     ]
    }
   ],
   "source": [
    "target = int(input())"
   ]
  },
  {
   "cell_type": "code",
   "execution_count": 10,
   "metadata": {},
   "outputs": [],
   "source": [
    "none = 1\n",
    "one = target-1\n",
    "def two(x):\n",
    "    result = x//2\n",
    "    result = result*(result-1)//2\n",
    "    return result"
   ]
  },
  {
   "cell_type": "code",
   "execution_count": 11,
   "metadata": {},
   "outputs": [
    {
     "name": "stdout",
     "output_type": "stream",
     "text": [
      "3\n"
     ]
    }
   ],
   "source": [
    "result = none+one+two(target)\n",
    "print(result)"
   ]
  }
 ],
 "metadata": {
  "kernelspec": {
   "display_name": "Python 3",
   "language": "python",
   "name": "python3"
  },
  "language_info": {
   "codemirror_mode": {
    "name": "ipython",
    "version": 3
   },
   "file_extension": ".py",
   "mimetype": "text/x-python",
   "name": "python",
   "nbconvert_exporter": "python",
   "pygments_lexer": "ipython3",
   "version": "3.7.6"
  }
 },
 "nbformat": 4,
 "nbformat_minor": 2
}
