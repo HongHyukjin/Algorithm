{
 "cells": [
  {
   "cell_type": "code",
   "execution_count": null,
   "metadata": {},
   "outputs": [],
   "source": [
    "백준 1463 : 1로 만들기\n",
    "\n",
    "정수 X에 사용할 수 있는 연산은 다음과 같이 세 가지 이다.\n",
    "\n",
    "1.X가 3으로 나누어 떨어지면, 3으로 나눈다.\n",
    "2.X가 2로 나누어 떨어지면, 2로 나눈다.\n",
    "3.1을 뺀다.\n",
    "정수 N이 주어졌을 때, 위와 같은 연산 세 개를 적절히 사용해서 1을 만들려고 한다. \n",
    "연산을 사용하는 횟수의 최솟값을 출력하시오."
   ]
  },
  {
   "cell_type": "raw",
   "metadata": {},
   "source": [
    "문제해결\n",
    "1.대상 수 입력\n",
    "2.나누기 우선 사용(최고속 계산)\n",
    "3.나머지 빼기 사용(선택적)\n",
    "4.결과 출력"
   ]
  },
  {
   "cell_type": "code",
   "execution_count": 30,
   "metadata": {},
   "outputs": [
    {
     "name": "stdout",
     "output_type": "stream",
     "text": [
      "대상 수10\n"
     ]
    }
   ],
   "source": [
    "target = int(input('대상 수'))"
   ]
  },
  {
   "cell_type": "code",
   "execution_count": 31,
   "metadata": {},
   "outputs": [],
   "source": [
    "def process(x):\n",
    "    if(x%3 == 0):\n",
    "        x /= 3\n",
    "    elif((x-1)%3 == 0):\n",
    "        x -= 1\n",
    "    else:\n",
    "        x /= 2\n",
    "    return x"
   ]
  },
  {
   "cell_type": "code",
   "execution_count": 32,
   "metadata": {},
   "outputs": [
    {
     "name": "stdout",
     "output_type": "stream",
     "text": [
      "9\n",
      "3.0\n",
      "1.0\n"
     ]
    }
   ],
   "source": [
    "cycle = 0\n",
    "while(1):\n",
    "    target = process(target)\n",
    "    print(target)\n",
    "    cycle += 1\n",
    "    if(target == 1):\n",
    "        break"
   ]
  },
  {
   "cell_type": "code",
   "execution_count": 33,
   "metadata": {},
   "outputs": [
    {
     "name": "stdout",
     "output_type": "stream",
     "text": [
      "3\n"
     ]
    }
   ],
   "source": [
    "print(cycle)"
   ]
  }
 ],
 "metadata": {
  "kernelspec": {
   "display_name": "Python 3",
   "language": "python",
   "name": "python3"
  },
  "language_info": {
   "codemirror_mode": {
    "name": "ipython",
    "version": 3
   },
   "file_extension": ".py",
   "mimetype": "text/x-python",
   "name": "python",
   "nbconvert_exporter": "python",
   "pygments_lexer": "ipython3",
   "version": "3.7.4"
  }
 },
 "nbformat": 4,
 "nbformat_minor": 2
}
