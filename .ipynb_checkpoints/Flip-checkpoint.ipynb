{
 "cells": [
  {
   "cell_type": "raw",
   "metadata": {},
   "source": [
    "백준 1439 : 뒤집기\n",
    "\n",
    "다솜이는 0과 1로만 이루어진 문자열 S를 가지고 있다. 다솜이는 이 문자열 S에 있는 모든 숫자를 전부 같게 만들려고 한다. 다솜이가 할 수 있는 행동은 S에서 연속된 하나 이상의 숫자를 잡고 모두 뒤집는 것이다. 뒤집는 것은 1을 0으로, 0을 1로 바꾸는 것을 의미한다.\n",
    "\n",
    "예를 들어 S=0001100 일 때,\n",
    "\n",
    "전체를 뒤집으면 1110011이 된다.\n",
    "4번째 문자부터 5번째 문자까지 뒤집으면 1111111이 되어서 2번 만에 모두 같은 숫자로 만들 수 있다.\n",
    "하지만, 처음부터 4번째 문자부터 5번째 문자까지 문자를 뒤집으면 한 번에 0000000이 되어서 1번 만에 모두 같은 숫자로 만들 수 있다.\n",
    "\n",
    "문자열 S가 주어졌을 때, 다솜이가 해야하는 행동의 최소 횟수를 출력하시오."
   ]
  },
  {
   "cell_type": "raw",
   "metadata": {},
   "source": [
    "문제해결\n",
    "1.대상 데이터 입력받기\n",
    "2.대상데이터의 전환구간(0->1 or 1->0)인덱스 체크\n",
    "3.케이스분류 :: 시작숫자를 기준으로\n",
    "3-1.홀수번 전환 = 다른숫자가 피벗\n",
    "3-2.짝수번 전환 = 시작숫자가 피벗\n",
    "4.결과 출력"
   ]
  },
  {
   "cell_type": "code",
   "execution_count": 17,
   "metadata": {},
   "outputs": [
    {
     "name": "stdout",
     "output_type": "stream",
     "text": [
      "0001100\n",
      "0001100\n"
     ]
    }
   ],
   "source": [
    "data = input()\n",
    "print(data)"
   ]
  },
  {
   "cell_type": "code",
   "execution_count": 31,
   "metadata": {},
   "outputs": [
    {
     "name": "stdout",
     "output_type": "stream",
     "text": [
      "0001100\n"
     ]
    }
   ],
   "source": [
    "datac = data\n",
    "print(datac)"
   ]
  },
  {
   "cell_type": "code",
   "execution_count": 32,
   "metadata": {},
   "outputs": [
    {
     "name": "stdout",
     "output_type": "stream",
     "text": [
      "1\n"
     ]
    }
   ],
   "source": [
    "flag = 0\n",
    "target_idx = []\n",
    "pivot = 0\n",
    "\n",
    "for i in range(len(datac)):\n",
    "    if(i>0 and datac[i]!=datac[i-1]):\n",
    "        flag+=1\n",
    "        target_idx.append(i)\n",
    "\n",
    "for i in range(len(target_idx)):\n",
    "    target_idx[i] = int(target_idx[i])\n",
    "        \n",
    "if(flag%2==0):\n",
    "    pivot = datac[target_idx[0]]\n",
    "else:\n",
    "    pivot = datac[target_idx[1]]\n",
    "    \n",
    "print(pivot)"
   ]
  },
  {
   "cell_type": "code",
   "execution_count": 36,
   "metadata": {},
   "outputs": [
    {
     "name": "stdout",
     "output_type": "stream",
     "text": [
      "0001100\n",
      "1\n",
      "2\n",
      "[3, 5]\n"
     ]
    }
   ],
   "source": [
    "print(datac)\n",
    "print(pivot)\n",
    "print(flag)\n",
    "print(target_idx)"
   ]
  }
 ],
 "metadata": {
  "kernelspec": {
   "display_name": "Python 3",
   "language": "python",
   "name": "python3"
  },
  "language_info": {
   "codemirror_mode": {
    "name": "ipython",
    "version": 3
   },
   "file_extension": ".py",
   "mimetype": "text/x-python",
   "name": "python",
   "nbconvert_exporter": "python",
   "pygments_lexer": "ipython3",
   "version": "3.7.4"
  }
 },
 "nbformat": 4,
 "nbformat_minor": 2
}
