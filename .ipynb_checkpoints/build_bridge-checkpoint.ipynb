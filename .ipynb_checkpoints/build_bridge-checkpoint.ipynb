{
 "cells": [
  {
   "cell_type": "markdown",
   "metadata": {},
   "source": [
    "백준 1010 : 다리 놓기\n",
    "\n",
    "재원이는 한 도시의 시장이 되었다. 이 도시에는 도시를 동쪽과 서쪽으로 나누는 큰 강이 흐르고 있다. 하지만 재원이는 다리가 없어서 시민들이 강을 건너는데 큰 불편을 겪고 있음을 알고 다리를 짓기로 결심하였다. 강 주변에서 다리를 짓기에 적합한 곳을 사이트라고 한다. 재원이는 강 주변을 면밀히 조사해 본 결과 강의 서쪽에는 N개의 사이트가 있고 동쪽에는 M개의 사이트가 있다는 것을 알았다. (N ≤ M)\n",
    "\n",
    "재원이는 서쪽의 사이트와 동쪽의 사이트를 다리로 연결하려고 한다. (이때 한 사이트에는 최대 한 개의 다리만 연결될 수 있다.) 재원이는 다리를 최대한 많이 지으려고 하기 때문에 서쪽의 사이트 개수만큼 (N개) 다리를 지으려고 한다. 다리끼리는 서로 겹쳐질 수 없다고 할 때 다리를 지을 수 있는 경우의 수를 구하는 프로그램을 작성하라."
   ]
  },
  {
   "cell_type": "markdown",
   "metadata": {},
   "source": [
    "출력함수정의"
   ]
  },
  {
   "cell_type": "code",
   "execution_count": 66,
   "metadata": {},
   "outputs": [],
   "source": [
    "def print_case(w,e):\n",
    "    result = 1\n",
    "    react = w\n",
    "    for i in range(w):\n",
    "        result *= e\n",
    "        e-=1\n",
    "    print(result)\n",
    "    for i in range(e,0,-1):\n",
    "        result = result // react\n",
    "        react -= 1\n",
    "        if(react==0):\n",
    "            break\n",
    "    print(result)\n",
    "    print('final : ',result)"
   ]
  },
  {
   "cell_type": "markdown",
   "metadata": {},
   "source": [
    "테스트케이스 입력받기"
   ]
  },
  {
   "cell_type": "code",
   "execution_count": 67,
   "metadata": {},
   "outputs": [
    {
     "name": "stdout",
     "output_type": "stream",
     "text": [
      "테스트 케이스 : 3\n"
     ]
    }
   ],
   "source": [
    "test_case = int(input(\"테스트 케이스 : \"))"
   ]
  },
  {
   "cell_type": "markdown",
   "metadata": {},
   "source": [
    "최고 다리건설개수 출력하기"
   ]
  },
  {
   "cell_type": "code",
   "execution_count": 68,
   "metadata": {},
   "outputs": [
    {
     "name": "stdout",
     "output_type": "stream",
     "text": [
      "서쪽다리 : 2\n",
      "동쪽다리 : 2\n",
      "2\n",
      "2\n",
      "final :  2\n",
      "서쪽다리 : 1\n",
      "동쪽다리 : 5\n",
      "5\n",
      "5\n",
      "final :  5\n",
      "서쪽다리 : 13\n",
      "동쪽다리 : 29\n",
      "422590010274432000\n",
      "67863915\n",
      "final :  67863915\n"
     ]
    }
   ],
   "source": [
    "west_pivot = list()\n",
    "east = list()\n",
    "\n",
    "for i in range(test_case):\n",
    "    west_pivot.append(int(input(\"서쪽다리 : \")))\n",
    "    east.append(int(input(\"동쪽다리 : \")))\n",
    "    print_case(west_pivot[i],east[i])"
   ]
  }
 ],
 "metadata": {
  "kernelspec": {
   "display_name": "Python 3",
   "language": "python",
   "name": "python3"
  },
  "language_info": {
   "codemirror_mode": {
    "name": "ipython",
    "version": 3
   },
   "file_extension": ".py",
   "mimetype": "text/x-python",
   "name": "python",
   "nbconvert_exporter": "python",
   "pygments_lexer": "ipython3",
   "version": "3.7.6"
  }
 },
 "nbformat": 4,
 "nbformat_minor": 2
}
