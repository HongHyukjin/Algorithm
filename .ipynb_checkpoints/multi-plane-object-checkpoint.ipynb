{
 "cells": [
  {
   "cell_type": "raw",
   "metadata": {},
   "source": [
    "백준 10569 : 다면체\n",
    "\n",
    "수학자가 구를 깎아서 볼록다면체를 만들었다. \n",
    "이 수학자는 임의의 볼록다면체에 대해 (꼭짓점의 수) - (모서리의 수) + (면의 수) = 2가 성립한다는 것을 알고 있다. \n",
    "그래서 구를 깎는 게 취미인 이 사람은 꼭짓점, 모서리와 면의 수를 기록할 때 꼭짓점과 모서리의 수만 세고 면의 수는 세지 않는다."
   ]
  },
  {
   "cell_type": "raw",
   "metadata": {},
   "source": [
    "문제해결\n",
    "1.자르기함수(단면발생시 생겨나는 꼭짓점과 변에 대한 함수정의)\n",
    "2.입력부설정\n",
    "3.출력하기"
   ]
  },
  {
   "cell_type": "code",
   "execution_count": 14,
   "metadata": {},
   "outputs": [],
   "source": [
    "def flat(point, edge):\n",
    "    result = edge - point + 2\n",
    "    return result"
   ]
  },
  {
   "cell_type": "code",
   "execution_count": 15,
   "metadata": {},
   "outputs": [],
   "source": [
    "def integer_transform(point, edge):\n",
    "    point = int(point)\n",
    "    edge = int(edge)\n",
    "    return point, edge"
   ]
  },
  {
   "cell_type": "code",
   "execution_count": 24,
   "metadata": {},
   "outputs": [
    {
     "name": "stdout",
     "output_type": "stream",
     "text": [
      "케이스 개수 : 2\n",
      "꼭짓점과 모서리 : 8 12\n",
      "꼭짓점과 모서리 : 4 6\n",
      "[8, 4] [12, 6]\n"
     ]
    }
   ],
   "source": [
    "case = int(input('케이스 개수 : '))\n",
    "point = [0 for i in range(case)]\n",
    "edge = [0 for i in range(case)]\n",
    "result = [0 for i in range(case)]\n",
    "\n",
    "for i in range(case):\n",
    "    point[i], edge[i] = input('꼭짓점과 모서리 : ').split()\n",
    "    point[i], edge[i] = integer_transform(point[i], edge[i])\n",
    "    \n",
    "print(point, edge)"
   ]
  },
  {
   "cell_type": "code",
   "execution_count": 25,
   "metadata": {},
   "outputs": [
    {
     "name": "stdout",
     "output_type": "stream",
     "text": [
      "[6, 4]\n"
     ]
    }
   ],
   "source": [
    "for i in range(case):\n",
    "    result[i] = flat(point[i], edge[i])\n",
    "\n",
    "print(result)"
   ]
  }
 ],
 "metadata": {
  "kernelspec": {
   "display_name": "Python 3",
   "language": "python",
   "name": "python3"
  },
  "language_info": {
   "codemirror_mode": {
    "name": "ipython",
    "version": 3
   },
   "file_extension": ".py",
   "mimetype": "text/x-python",
   "name": "python",
   "nbconvert_exporter": "python",
   "pygments_lexer": "ipython3",
   "version": "3.7.6"
  }
 },
 "nbformat": 4,
 "nbformat_minor": 2
}
