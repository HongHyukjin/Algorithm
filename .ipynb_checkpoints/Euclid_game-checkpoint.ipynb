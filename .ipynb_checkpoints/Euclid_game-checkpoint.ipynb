{
 "cells": [
  {
   "cell_type": "raw",
   "metadata": {},
   "source": [
    "백준 4342 : 유클리드 게임\n",
    "유클리드 게임은 두 명이서 하는 게임이고, 자연수 2개로 시작한다. \n",
    "동혁이와 동규는 유클리드 게임을 하려고 한다. \n",
    "동혁이가 먼저 시작한다. 동혁이는 큰 수를 작은 수의 배수만큼 뺀다. \n",
    "이때, 큰 수는 음이 아닌 정수가 되어야 한다.  \n",
    "그런 다음 동규는 동혁이가 한 것과 똑같이 큰 수를 작은 수의 배수만큼 뺀다. \n",
    "이런식으로 두 플레이어는 서로 번갈아가면서 게임을 한다. 이때, 큰 수를 0으로 만든 사람이 게임을 승리하게 된다.\n",
    "\n",
    "예를 들어, 다음과 같이 (25, 7)로 시작한 게임을 생각해보자.\n",
    "25 7\n",
    "11 7\n",
    "4 7\n",
    "4 3\n",
    "1 3\n",
    "1 0\n",
    "위와 같이 게임을 하게 되면, 동혁이가이기게 된다. (큰 수와 작은 수는 각 턴에서 큰 수와 작은 수이다.)\n",
    "시작하는 두 자연수가 주어졌을 때, 두 플레이어가 최적의 방법으로 게임을 할 때, 누가 이기는지 구하는 프로그램을 작성하시오."
   ]
  },
  {
   "cell_type": "raw",
   "metadata": {},
   "source": [
    "문제해결 \n",
    "1.입력부 구성(입력받은 데이터 분할저장, 정수형변환)\n",
    "2.게임진행방식 함수구현\n",
    "2-1.대소비교\n",
    "2-2.케이스분류 :: 더 나누기 가능 // 더 이상 나누기불가\n",
    "2-2-1 더 나누기 가능 >> 나누기실행\n",
    "2-2-2 케이스분류<더 이상 나누기불가> :: 남은턴0 // 남은턴1 -> 승자판단\n",
    "3.결과출력"
   ]
  },
  {
   "cell_type": "code",
   "execution_count": 15,
   "metadata": {},
   "outputs": [
    {
     "name": "stdout",
     "output_type": "stream",
     "text": [
      "34 12\n",
      "15 24\n",
      "0 0\n",
      "[[34, 12], [15, 24]]\n"
     ]
    }
   ],
   "source": [
    "case = []#동혁, 동규 각 케이스별 첫 수 리스트\n",
    "while(1):\n",
    "    hyeok, gyu = input().split()\n",
    "    if((hyeok == gyu) and (hyeok == '0')):\n",
    "        break\n",
    "    else:\n",
    "        hyeok = int(hyeok)\n",
    "        gyu = int(gyu)\n",
    "        case.append([hyeok,gyu])\n",
    "        \n",
    "print(case)"
   ]
  },
  {
   "cell_type": "code",
   "execution_count": 16,
   "metadata": {},
   "outputs": [],
   "source": [
    "def optimize_game(x,y,scd):\n",
    "    if(y>x):#뒤가 더크면 정렬\n",
    "        tmp = y\n",
    "        y = x\n",
    "        x = tmp\n",
    "    print('%d , %d'%(x,y))\n",
    "    if(y!=0):\n",
    "        o=x//y\n",
    "        x-=o*y\n",
    "        scd += 1\n",
    "        return x,y,scd\n",
    "    else:\n",
    "        if(scd % 2 != 0):\n",
    "            print('A wins')\n",
    "        elif(scd % 2 == 0):\n",
    "            print('B wins')\n",
    "        return x,y,scd"
   ]
  },
  {
   "cell_type": "code",
   "execution_count": 17,
   "metadata": {},
   "outputs": [
    {
     "name": "stdout",
     "output_type": "stream",
     "text": [
      "34 , 12\n",
      "1\n",
      "12 , 10\n",
      "2\n",
      "10 , 2\n",
      "3\n",
      "2 , 0\n",
      "A wins\n",
      "3\n",
      "24 , 15\n",
      "1\n",
      "15 , 9\n",
      "2\n",
      "9 , 6\n",
      "3\n",
      "6 , 3\n",
      "4\n",
      "3 , 0\n",
      "B wins\n",
      "4\n"
     ]
    }
   ],
   "source": [
    "for i in range(len(case)):\n",
    "    result = 0\n",
    "    while(1):\n",
    "        case[i][0],case[i][1],result = optimize_game(case[i][0],case[i][1],result)\n",
    "        print(result)\n",
    "        if(case[i][1] == 0):\n",
    "            break"
   ]
  }
 ],
 "metadata": {
  "kernelspec": {
   "display_name": "Python 3",
   "language": "python",
   "name": "python3"
  },
  "language_info": {
   "codemirror_mode": {
    "name": "ipython",
    "version": 3
   },
   "file_extension": ".py",
   "mimetype": "text/x-python",
   "name": "python",
   "nbconvert_exporter": "python",
   "pygments_lexer": "ipython3",
   "version": "3.7.4"
  }
 },
 "nbformat": 4,
 "nbformat_minor": 2
}
