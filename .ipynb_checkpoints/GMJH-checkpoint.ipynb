{
 "cells": [
  {
   "cell_type": "raw",
   "metadata": {},
   "source": [
    "SW마에스트로 11(pre-exam) : 근묵자흑\n",
    "\n",
    "근묵자흑이라는 말이 있다. \"검은 먹을 가까이 하면 검어진다.\" 이는 좋지 못한 사람과 가까이 하면 악에 물들게 된다고 해석할 수 있다. 이는 사람 뿐만 아니라 숫자도 마찬가지이다. 여러 숫자들을 한 곳에 모아두면 시간이 흘러 모든 숫자가 그 중 가장 작은 수에 맞춰 변하게 된다.\n",
    "\n",
    "현재 1부터 N까지의 정수가 한 번씩 등장하는 길이 N의 수열이 있다. 여기서 당신은 연속된 K개의 정수를 골라서 한 곳에 잠시 모아둘 수 있다. 시간이 지나면 당신이 고른 K개의 정수들은 K개 중 가장 작은 정수가 된다. 이 시간은 고려하지 않는다. 여기서 이 수열을 모두 같은 수로 만들고자 할 때 최소 몇 번 골라야 하는지 구하는 프로그램을 작성하시오.\n",
    "\n",
    "예를 들어 4개의 수가 [2,3,1,4]와 같이 있고 K=3일 때, [<2,3,1>,4]을 고르게 되면 세 수는 2,3,1 중 가장 작은 수인 1로 변하게 된다. 이후 [1,1,1,4]가 된다. 아직 4가 남아있으니 [1,1,1,4]를 고르게 되면 [1,1,1,1]이 되고 총 2번만에 모두 같은 수로 만드는 데 성공이다."
   ]
  },
  {
   "cell_type": "raw",
   "metadata": {},
   "source": [
    "문제해결방법\n",
    "1.데이터 입력받기\n",
    "2.전체 1이 아닌 수를 전환하는데 걸리는 횟수세기\n",
    "2-1.1이 아닌 수의 전체 갯수를 1회 전환 개수로 차감하여 0이 되는 횟수를 찾기\n",
    "3.결과출력"
   ]
  },
  {
   "cell_type": "code",
   "execution_count": 1,
   "metadata": {},
   "outputs": [
    {
     "name": "stdout",
     "output_type": "stream",
     "text": [
      "37 4\n",
      "2 2 2 2 1 2 2 2 2 2 2 2 2 2 2 2 2 2 2 2 2 2 2 2 2 2 2 2 2 2 2 2 2 2 2 2 2\n"
     ]
    }
   ],
   "source": [
    "length, serial = input().split()\n",
    "arr = input().split()\n",
    "length = int(length)\n",
    "serial = int(serial)\n",
    "for i in range(len(arr)):\n",
    "    arr[i] = int(arr[i])"
   ]
  },
  {
   "cell_type": "code",
   "execution_count": 2,
   "metadata": {},
   "outputs": [
    {
     "name": "stdout",
     "output_type": "stream",
     "text": [
      "37\n"
     ]
    }
   ],
   "source": [
    "#1위치찾기\n",
    "#1좌 개수-3 -> 반복횟수찾기\n",
    "#1우 개수-3 -> 반복횟수찾기\n",
    "print(len(arr))"
   ]
  },
  {
   "cell_type": "code",
   "execution_count": 3,
   "metadata": {},
   "outputs": [],
   "source": [
    "def find_one(arr):\n",
    "    for i in range(len(arr)):\n",
    "        if(arr[i]==1):\n",
    "            return i"
   ]
  },
  {
   "cell_type": "code",
   "execution_count": 4,
   "metadata": {},
   "outputs": [],
   "source": [
    "def GMJH(arr,length,serial):\n",
    "    result = 0\n",
    "    left = find_one(arr)\n",
    "    right = length-left-1\n",
    "    total = left+right\n",
    "    while(total-(serial-1)>0):\n",
    "        total-=(serial-1)\n",
    "        result+=1\n",
    "    result+=1\n",
    "    return result"
   ]
  },
  {
   "cell_type": "code",
   "execution_count": 5,
   "metadata": {},
   "outputs": [
    {
     "name": "stdout",
     "output_type": "stream",
     "text": [
      "12\n"
     ]
    }
   ],
   "source": [
    "result = GMJH(arr,length,serial)\n",
    "print(result)"
   ]
  }
 ],
 "metadata": {
  "kernelspec": {
   "display_name": "Python 3",
   "language": "python",
   "name": "python3"
  },
  "language_info": {
   "codemirror_mode": {
    "name": "ipython",
    "version": 3
   },
   "file_extension": ".py",
   "mimetype": "text/x-python",
   "name": "python",
   "nbconvert_exporter": "python",
   "pygments_lexer": "ipython3",
   "version": "3.7.4"
  }
 },
 "nbformat": 4,
 "nbformat_minor": 2
}
