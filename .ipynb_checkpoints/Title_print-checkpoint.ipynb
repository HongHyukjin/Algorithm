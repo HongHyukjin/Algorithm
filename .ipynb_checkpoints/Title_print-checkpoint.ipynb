{
 "cells": [
  {
   "cell_type": "raw",
   "metadata": {},
   "source": [
    "백준 1284 : 집 주소\n",
    "\n",
    "재석이는 대문에 붙이는 (주소를 나타내는) 호수판 제작업체의 직원이다. \n",
    "고객에게 전달할 호수판은 숫자와 숫자 사이 그리고 왼쪽 오른쪽으로 적당히 여백이 들어가 줘야하고 숫자마다 차지하는 간격이 조금씩 상이하다. 다행이도 규칙은 매우 간단하다. \n",
    "각 숫자 사이에는 1cm의 여백이 들어가야한다.\n",
    "1은 2cm의 너비를 차지해야한다. 0은 4cm의 너비를 차지해야한다. \n",
    "나머지 숫자는 모두 3cm의 너비를 차지한다.\n",
    "호수판의 경계와 숫자 사이에는 1cm의 여백이 들어가야한다.\n",
    "120.png\n",
    "예를 들어 위의 120 같은 경우,  각 숫자 사이에 여백이 1cm 씩 2개 들어간다. 1은 2cm, 2는 3cm, 0은 4cm를 차지한다. \n",
    "오른쪽, 왼쪽 경계에서 각각 여백이 1cm씩 차지한다. 따라서 총 2 + 2 + 3 + 4 + 1 + 1 = 13(cm) 가 된다.\n",
    "재석이는 고객에게 전달해야할 호수판의 너비가 얼마나 되는지 궁금해졌다. 재석이를 도와주자!"
   ]
  },
  {
   "cell_type": "raw",
   "metadata": {},
   "source": [
    "문제해결 \n",
    "1.숫자입력받기\n",
    "2.각 숫자크기변환함수\n",
    "3.여백계산\n",
    "4.결과도출"
   ]
  },
  {
   "cell_type": "code",
   "execution_count": 96,
   "metadata": {},
   "outputs": [
    {
     "name": "stdout",
     "output_type": "stream",
     "text": [
      "120\n",
      "5611\n",
      "100\n",
      "0\n",
      "['120', '5611', '100']\n"
     ]
    }
   ],
   "source": [
    "arr = []\n",
    "while(True):\n",
    "    arr.append(input())\n",
    "    if(arr.count('0')>0):\n",
    "        arr.remove('0')\n",
    "        break\n",
    "print(arr)"
   ]
  },
  {
   "cell_type": "code",
   "execution_count": 97,
   "metadata": {},
   "outputs": [],
   "source": [
    "def convert_to_sololist(x,length):\n",
    "    div = 0\n",
    "    out = []\n",
    "    for i in range(length-1,-1,-1):\n",
    "        div = 10**i\n",
    "        out.append(x//div)\n",
    "        x %= div\n",
    "    print(out)\n",
    "    return out"
   ]
  },
  {
   "cell_type": "code",
   "execution_count": 98,
   "metadata": {},
   "outputs": [
    {
     "name": "stdout",
     "output_type": "stream",
     "text": [
      "[1, 2, 0]\n",
      "[5, 6, 1, 1]\n",
      "[1, 0, 0]\n",
      "[[1, 2, 0], [5, 6, 1, 1], [1, 0, 0]]\n"
     ]
    }
   ],
   "source": [
    "for i in range(len(arr)):\n",
    "    arr_length = len(arr[i])\n",
    "    arr[i] = int(arr[i])\n",
    "    arr[i] = convert_to_sololist(arr[i],arr_length)\n",
    "print(arr)"
   ]
  },
  {
   "cell_type": "code",
   "execution_count": 99,
   "metadata": {},
   "outputs": [
    {
     "name": "stdout",
     "output_type": "stream",
     "text": [
      "count = 2\n",
      "1\n",
      "count = 5\n",
      "2\n",
      "count = 9\n",
      "0\n",
      "공백:4\n",
      "13\n",
      "count = 3\n",
      "5\n",
      "count = 6\n",
      "6\n",
      "count = 8\n",
      "1\n",
      "count = 10\n",
      "1\n",
      "공백:5\n",
      "15\n",
      "count = 2\n",
      "1\n",
      "count = 6\n",
      "0\n",
      "count = 10\n",
      "0\n",
      "공백:4\n",
      "14\n"
     ]
    }
   ],
   "source": [
    "for i in range(len(arr)):\n",
    "    count = 0\n",
    "    for j in range(len(arr[i])):\n",
    "        if(arr[i][j]==1 or arr[i][j]==0):\n",
    "            if(arr[i][j]==1):\n",
    "                count+=2\n",
    "            else:\n",
    "                count+=4\n",
    "        else:\n",
    "            count+=3\n",
    "        print('count = %d'%count)\n",
    "        print(arr[i][j])\n",
    "    print('공백:%d'%(len(arr[i])+1))\n",
    "    count+=(len(arr[i])+1)\n",
    "    arr[i] = count\n",
    "    print(arr[i])"
   ]
  },
  {
   "cell_type": "code",
   "execution_count": 100,
   "metadata": {},
   "outputs": [
    {
     "name": "stdout",
     "output_type": "stream",
     "text": [
      "[13, 15, 14]\n"
     ]
    }
   ],
   "source": [
    "print(arr)"
   ]
  }
 ],
 "metadata": {
  "kernelspec": {
   "display_name": "Python 3",
   "language": "python",
   "name": "python3"
  },
  "language_info": {
   "codemirror_mode": {
    "name": "ipython",
    "version": 3
   },
   "file_extension": ".py",
   "mimetype": "text/x-python",
   "name": "python",
   "nbconvert_exporter": "python",
   "pygments_lexer": "ipython3",
   "version": "3.7.4"
  }
 },
 "nbformat": 4,
 "nbformat_minor": 2
}
