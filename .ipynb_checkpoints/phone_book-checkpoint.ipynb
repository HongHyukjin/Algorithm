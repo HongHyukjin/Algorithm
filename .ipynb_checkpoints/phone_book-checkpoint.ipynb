{
 "cells": [
  {
   "cell_type": "raw",
   "metadata": {},
   "source": [
    "백준 5052 : 전화번호 목록\n",
    "전화번호 목록이 주어진다. 이때, 이 목록이 일관성이 있는지 없는지를 구하는 프로그램을 작성하시오.\n",
    "전화번호 목록이 일관성을 유지하려면, 한 번호가 다른 번호의 접두어인 경우가 없어야 한다.\n",
    "예를 들어, 전화번호 목록이 아래와 같은 경우를 생각해보자\n",
    "긴급전화: 911\n",
    "상근: 97 625 999\n",
    "선영: 91 12 54 26\n",
    "이 경우에 선영이에게 전화를 걸 수 있는 방법이 없다. \n",
    "전화기를 들고 선영이 번호의 처음 세 자리를 누르는 순간 바로 긴급전화가 걸리기 때문이다. \n",
    "따라서, 이 목록은 일관성이 없는 목록이다. "
   ]
  },
  {
   "cell_type": "raw",
   "metadata": {},
   "source": [
    "문제해결\n",
    "1.데이터입력부(데이터 정리 + 데이터길이저장)\n",
    "2.최적의 비교거리 산출(최소비교)\n",
    "3.각 데이터 비교거리만큼 원데이터 자르기(편집데이터)\n",
    "4.비교 및 결과표출"
   ]
  },
  {
   "cell_type": "code",
   "execution_count": 1,
   "metadata": {},
   "outputs": [
    {
     "name": "stdout",
     "output_type": "stream",
     "text": [
      "num of testcase : 2\n",
      "num of phone_number : 3\n",
      "num[0] : 911\n",
      "num[1] : 97625999\n",
      "num[2] : 91125426\n",
      "num of phone_number : 5\n",
      "num[0] : 113\n",
      "num[1] : 12340\n",
      "num[2] : 123440\n",
      "num[3] : 12345\n",
      "num[4] : 98346\n",
      "[[911, 97625999, 91125426], [113, 12340, 123440, 12345, 98346]]\n",
      "[3, 5]\n"
     ]
    }
   ],
   "source": [
    "case = int(input('num of testcase : '))\n",
    "call_book_len=[]\n",
    "call_book=[[],[]]\n",
    "\n",
    "for i in range(case):\n",
    "    call_book_len.append(int(input('num of phone_number : ')))\n",
    "    for j in range(call_book_len[i]):\n",
    "        call_book[i].append(int(input('num[%d] : '%j)))\n",
    "        \n",
    "print(call_book)\n",
    "print(call_book_len)"
   ]
  },
  {
   "cell_type": "code",
   "execution_count": 45,
   "metadata": {},
   "outputs": [],
   "source": [
    "callbook_tmp = call_book\n",
    "callbook_len_tmp = call_book_len"
   ]
  },
  {
   "cell_type": "code",
   "execution_count": 46,
   "metadata": {},
   "outputs": [
    {
     "name": "stdout",
     "output_type": "stream",
     "text": [
      "------Data_structure------\n",
      "num of cases : 2\n",
      "num of numbers : 8\n",
      "\n",
      "length of each number[0][0] : 3\n",
      "length of each number[0][1] : 8\n",
      "length of each number[0][2] : 8\n",
      "length of each number[1][0] : 3\n",
      "length of each number[1][1] : 5\n",
      "length of each number[1][2] : 6\n",
      "length of each number[1][3] : 5\n",
      "length of each number[1][4] : 5\n"
     ]
    }
   ],
   "source": [
    "number_len = [[],[],]\n",
    "\n",
    "for i in range(case):\n",
    "    for j in range(callbook_len_tmp[i]):\n",
    "        number_len[i].append(len(str(callbook_tmp[i][j])))\n",
    "        \n",
    "print('------Data_structure------')\n",
    "print('num of cases : %d'%case)\n",
    "tmp = 0\n",
    "for i in range(case):\n",
    "    tmp += len(callbook_tmp[i])\n",
    "print('num of numbers : %d\\n'%tmp)\n",
    "for i in range(len(number_len)):\n",
    "    for j in range(len(number_len[i])):\n",
    "        print('length of each number[%d][%d] : %d'%(i,j,number_len[i][j]))"
   ]
  },
  {
   "cell_type": "code",
   "execution_count": 47,
   "metadata": {},
   "outputs": [
    {
     "name": "stdout",
     "output_type": "stream",
     "text": [
      "[3, 3]\n"
     ]
    }
   ],
   "source": [
    "#각 전화번호부별 최적(최소)비교횟수\n",
    "compat_cycle = []\n",
    "for i in range(len(number_len)):\n",
    "    compat_cycle.append(min(number_len[i]))\n",
    "    \n",
    "print(compat_cycle)"
   ]
  },
  {
   "cell_type": "code",
   "execution_count": 48,
   "metadata": {},
   "outputs": [
    {
     "name": "stdout",
     "output_type": "stream",
     "text": [
      "['3', '3']\n",
      "[['911', '97625999', '91125426'], ['113', '12340', '123440', '12345', '98346']]\n"
     ]
    }
   ],
   "source": [
    "for i in range(len(callbook_tmp)):\n",
    "    compat_cycle[i] = str(compat_cycle[i])\n",
    "    for j in range(callbook_len_tmp[i]):\n",
    "        callbook_tmp[i][j] = str(callbook_tmp[i][j])\n",
    "\n",
    "print(compat_cycle)\n",
    "print(callbook_tmp)"
   ]
  },
  {
   "cell_type": "code",
   "execution_count": 77,
   "metadata": {},
   "outputs": [],
   "source": [
    "def slice_n_compare(arr,rule):\n",
    "    intrule = int(rule)\n",
    "    for i in range(len(arr)):\n",
    "        if(len(arr[i]) == intrule):\n",
    "            pivot = arr[i]\n",
    "    print('pivot : %s'%pivot)\n",
    "    for i in range(len(arr)):\n",
    "        if(arr[i][0:intrule] == pivot and arr[i] != pivot):\n",
    "            print('target : %s'%arr[i][0:intrule])\n",
    "            print('arr[%d] : %s'%(i,arr[i]))\n",
    "            return 'No'\n",
    "    return 'Yes'"
   ]
  },
  {
   "cell_type": "code",
   "execution_count": 78,
   "metadata": {},
   "outputs": [
    {
     "name": "stdout",
     "output_type": "stream",
     "text": [
      "pivot : 911\n",
      "target : 911\n",
      "arr[2] : 91125426\n",
      "No\n",
      "pivot : 113\n",
      "Yes\n"
     ]
    }
   ],
   "source": [
    "for i in range(len(compat_cycle)):\n",
    "    print(slice_n_compare(callbook_tmp[i],compat_cycle[i]))"
   ]
  }
 ],
 "metadata": {
  "kernelspec": {
   "display_name": "Python 3",
   "language": "python",
   "name": "python3"
  },
  "language_info": {
   "codemirror_mode": {
    "name": "ipython",
    "version": 3
   },
   "file_extension": ".py",
   "mimetype": "text/x-python",
   "name": "python",
   "nbconvert_exporter": "python",
   "pygments_lexer": "ipython3",
   "version": "3.7.4"
  }
 },
 "nbformat": 4,
 "nbformat_minor": 2
}
