{
 "cells": [
  {
   "cell_type": "code",
   "execution_count": 3,
   "metadata": {},
   "outputs": [
    {
     "name": "stdout",
     "output_type": "stream",
     "text": [
      "1 2\n",
      "3 4\n"
     ]
    }
   ],
   "source": [
    "apple = []\n",
    "orange = []\n",
    "tmp1 = 0\n",
    "tmp2 = 0\n",
    "for i in range(2):\n",
    "    tmp1, tmp2 = input().split()\n",
    "    apple.append(int(tmp1))\n",
    "    orange.append(int(tmp2))"
   ]
  },
  {
   "cell_type": "code",
   "execution_count": 4,
   "metadata": {},
   "outputs": [
    {
     "name": "stdout",
     "output_type": "stream",
     "text": [
      "5\n"
     ]
    }
   ],
   "source": [
    "sum1 = apple[0]+orange[1]\n",
    "sum2 = apple[1]+orange[0]\n",
    "\n",
    "if(sum1>sum2):\n",
    "    print(sum1)\n",
    "else:\n",
    "    print(sum2)"
   ]
  }
 ],
 "metadata": {
  "kernelspec": {
   "display_name": "Python 3",
   "language": "python",
   "name": "python3"
  },
  "language_info": {
   "codemirror_mode": {
    "name": "ipython",
    "version": 3
   },
   "file_extension": ".py",
   "mimetype": "text/x-python",
   "name": "python",
   "nbconvert_exporter": "python",
   "pygments_lexer": "ipython3",
   "version": "3.7.6"
  }
 },
 "nbformat": 4,
 "nbformat_minor": 2
}
