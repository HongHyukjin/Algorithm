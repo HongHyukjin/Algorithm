{
 "cells": [
  {
   "cell_type": "raw",
   "metadata": {},
   "source": [
    "# 백준 1700 : 멀티탭 스케줄링\n",
    "\n",
    "기숙사에서 살고 있는 준규는 한 개의 멀티탭을 이용하고 있다. 준규는 키보드, 헤어드라이기, 핸드폰 충전기, 디지털 카메라 충전기 등 여러 개의 전기용품을 사용하면서 어쩔 수 없이 각종 전기용품의 플러그를 뺐다 꽂았다 하는 불편함을 겪고 있다. 그래서 준규는 자신의 생활 패턴을 분석하여, 자기가 사용하고 있는 전기용품의 사용순서를 알아내었고, 이를 기반으로 플러그를 빼는 횟수를 최소화하는 방법을 고안하여 보다 쾌적한 생활환경을 만들려고 한다.\n",
    "\n",
    "예를 들어 3 구(구멍이 세 개 달린) 멀티탭을 쓸 때, 전기용품의 사용 순서가 아래와 같이 주어진다면, \n",
    "\n",
    "키보드\n",
    "헤어드라이기\n",
    "핸드폰 충전기\n",
    "디지털 카메라 충전기\n",
    "키보드\n",
    "헤어드라이기\n",
    "키보드, 헤어드라이기, 핸드폰 충전기의 플러그를 순서대로 멀티탭에 꽂은 다음 디지털 카메라 충전기 플러그를 꽂기 전에 핸드폰충전기 플러그를 빼는 것이 최적일 것이므로 플러그는 한 번만 빼면 된다. "
   ]
  },
  {
   "cell_type": "raw",
   "metadata": {},
   "source": [
    "문제해결\n",
    "1.입력부 설정\n",
    "2.핵심 :: 멀티탭사용빈도↓ >> 낮은인덱스(Low-idx plug designate)\n",
    "3.핵심 :: 멀티탭사용빈도↑ >> 높은인덱스(High-idx plug designate)\n",
    "4.사용빈도수별로 오름차순을 적용한 탭할당\n",
    "5.출력부 설정"
   ]
  },
  {
   "cell_type": "code",
   "execution_count": 79,
   "metadata": {},
   "outputs": [
    {
     "name": "stdout",
     "output_type": "stream",
     "text": [
      "2 7\n",
      "2 3 2 3 1 2 7\n"
     ]
    }
   ],
   "source": [
    "plug, using = input().split()\n",
    "plug = int(plug)#멀티플러그 개수\n",
    "using = int(using)#전자기기 사용횟수\n",
    "\n",
    "task = [0 for i in range(using)]\n",
    "task_test = [0 for i in range(using)]\n",
    "task = input().split()\n",
    "for i in range(using):\n",
    "    task[i] = int(task[i])\n",
    "    task_test[i] = int(task[i])"
   ]
  },
  {
   "cell_type": "code",
   "execution_count": 80,
   "metadata": {},
   "outputs": [],
   "source": [
    "def count_max(task):\n",
    "    result = [0 for i in range(len(task))]\n",
    "    idx = 0\n",
    "    for i in range(len(task)):\n",
    "        result[i] = task.count(task[i])\n",
    "    \n",
    "    result_return = max(result)\n",
    "    for idx in range(len(task)):\n",
    "        if(result_return == task.count(task[idx])):\n",
    "            return idx#가장 많은 수의 인덱스 표출"
   ]
  },
  {
   "cell_type": "code",
   "execution_count": 81,
   "metadata": {},
   "outputs": [
    {
     "name": "stdout",
     "output_type": "stream",
     "text": [
      "[2, 3, 1, 7]\n",
      "4\n"
     ]
    }
   ],
   "source": [
    "classification = []\n",
    "classifi_flag = 0\n",
    "\n",
    "for i in range(len(task)):\n",
    "    if(classification.count(task[i]) == 0):\n",
    "        classification.append(task[i])\n",
    "        classifi_flag+=1\n",
    "        \n",
    "print(classification)#다른 인트 개수 분별 리스트\n",
    "print(classifi_flag)#다른 인트 개수"
   ]
  },
  {
   "cell_type": "code",
   "execution_count": 82,
   "metadata": {},
   "outputs": [
    {
     "name": "stdout",
     "output_type": "stream",
     "text": [
      "[2, 3, 2, 3, 1, 2, 7]\n",
      "[3, 3, 1, 7]\n",
      "[1, 7]\n",
      "[7]\n",
      "[2, 3, 1, 7]\n"
     ]
    }
   ],
   "source": [
    "greedy = 0\n",
    "final_tap = []\n",
    "remove = 0\n",
    "for i in range(classifi_flag):\n",
    "    print(task)\n",
    "    greedy = count_max(task)\n",
    "    final_tap.append(task[greedy])\n",
    "    remove = task[greedy]\n",
    "    for j in range(task.count(remove)):\n",
    "        task.remove(remove)\n",
    "\n",
    "print(final_tap)"
   ]
  },
  {
   "cell_type": "code",
   "execution_count": 83,
   "metadata": {},
   "outputs": [
    {
     "name": "stdout",
     "output_type": "stream",
     "text": [
      "[0, 0] [0, 0]\n"
     ]
    }
   ],
   "source": [
    "final_real = [0 for i in range(plug)]#멀티사용\n",
    "final_fake = [0 for i in range(classifi_flag-plug)]#멀티초과\n",
    "\n",
    "print(final_real, final_fake)"
   ]
  },
  {
   "cell_type": "code",
   "execution_count": 84,
   "metadata": {},
   "outputs": [
    {
     "name": "stdout",
     "output_type": "stream",
     "text": [
      "[2, 3] [1, 7]\n"
     ]
    }
   ],
   "source": [
    "for i in range(len(final_real)):\n",
    "    final_real[i] = final_tap[i]\n",
    "for i in range(len(final_real),len(final_real)+len(final_fake)):\n",
    "    final_fake[i-len(final_real)] = final_tap[i]\n",
    "    \n",
    "print(final_real, final_fake)"
   ]
  },
  {
   "cell_type": "code",
   "execution_count": 86,
   "metadata": {},
   "outputs": [
    {
     "name": "stdout",
     "output_type": "stream",
     "text": [
      "2\n"
     ]
    }
   ],
   "source": [
    "optimizing = 0\n",
    "tmp = 0\n",
    "for i in range(using):\n",
    "    if(final_real.count(task_test[i]) != 1):\n",
    "        tmp = final_real[-1]\n",
    "        final_real[-1] = task_test[i]\n",
    "        final_fake.remove(task_test[i])\n",
    "        final_fake.append(tmp)\n",
    "        optimizing+=1\n",
    "        \n",
    "print(optimizing)"
   ]
  }
 ],
 "metadata": {
  "kernelspec": {
   "display_name": "Python 3",
   "language": "python",
   "name": "python3"
  },
  "language_info": {
   "codemirror_mode": {
    "name": "ipython",
    "version": 3
   },
   "file_extension": ".py",
   "mimetype": "text/x-python",
   "name": "python",
   "nbconvert_exporter": "python",
   "pygments_lexer": "ipython3",
   "version": "3.7.6"
  }
 },
 "nbformat": 4,
 "nbformat_minor": 2
}
