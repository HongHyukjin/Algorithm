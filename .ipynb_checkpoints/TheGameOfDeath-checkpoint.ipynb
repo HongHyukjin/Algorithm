{
 "cells": [
  {
   "cell_type": "raw",
   "metadata": {},
   "source": [
    "백준 17204 : 죽음의게임\n",
    "중앙대학교 소프트웨어대학 새내기들을 맞이하게 된 17학번 김영기는 두 학번이라는 차이를 극복하기 위해 새내기들과 친해지려고 노력하고 있다. \n",
    "그 노력 중 하나는 바로 새내기들과의 술자리에 참여하는 것이다. \n",
    "그러나 혼자 가기에 민망했던 영기는 동기 보성이를 꼬셔 같이 술자리에 참석했다. \n",
    "새내기들과 같이 술을 마시게 된 영기와 보성이는 분위기가 가라 앉을 때쯤 The Game of Death라고 불리는 죽음의 술게임을 제안한다.\n",
    "죽음의 게임의 룰은 간단하다.\n",
    "게임에 참여하는 N명의 사람들은 원탁에 둘러앉게 된다. \n",
    "게임을 시작하는 사람은 0번, 그 오른쪽 사람은 1번, 그 오른쪽은 2번, N-1번의 오른쪽 사람은 다시 0번이 된다.\n",
    "0번이 \"신난다! 아싸 재미난다! 아싸 더 게임 오브 데! 스!\" 라고 외침과 동시에, 모든 사람들은 각각 테이블에 둘러 앉은 사람들 중 한 명을 지목한다. \n",
    "그리고 나서 0번은 임의의 양의 정수 M을 외친다.\n",
    "그 다음, 0번은 \"1\"이라고 말한다. 이때 \"1\"이라고 말한 사람이 지목한 사람은 \"2\"라고 말하고, \n",
    "\"2\"라고 말한 사람이 지목한 사람은 \"3\"이라고 말하고, 같은 방식으로 반복해 M까지 말하게 된다. \n",
    "이때 마지막으로 M이라고 말한 사람이 지목한 사람은 벌주를 마시게 된다.\n",
    "새내기에게 벌주를 마시게 하기에는 죄책감이 들었던 영기는 동기인 보성이를 공격하기로 결심했다. \n",
    "게임 참여자들간에 지목을 완료한 상태가 주어질때, 보성이가 벌주를 마시기 위해 영기가 불러야 하는 가장 작은 양의 정수 M을 보성이 몰래 귀띔해 주도록 하자.\n",
    "김영기는 게임을 제안하였기에 자연스럽게 0번이 된다."
   ]
  },
  {
   "cell_type": "raw",
   "metadata": {},
   "source": [
    "문제해결\n",
    "1.데이터입력\n",
    "2.타겟번호가 나올 차례계산\n",
    "3.데이터출력"
   ]
  },
  {
   "cell_type": "code",
   "execution_count": 1,
   "metadata": {},
   "outputs": [
    {
     "name": "stdout",
     "output_type": "stream",
     "text": [
      "5 3\n",
      "5 3\n"
     ]
    }
   ],
   "source": [
    "total,target = input().split()\n",
    "print(total,target)"
   ]
  },
  {
   "cell_type": "code",
   "execution_count": 5,
   "metadata": {},
   "outputs": [
    {
     "name": "stdout",
     "output_type": "stream",
     "text": [
      "1\n",
      "3\n",
      "2\n",
      "1\n",
      "4\n",
      "['1', '3', '2', '1', '4']\n"
     ]
    }
   ],
   "source": [
    "arr = []\n",
    "for i in range(int(total)):\n",
    "    arr.append(input())\n",
    "    \n",
    "print(arr)"
   ]
  },
  {
   "cell_type": "code",
   "execution_count": 8,
   "metadata": {},
   "outputs": [
    {
     "name": "stdout",
     "output_type": "stream",
     "text": [
      "2\n"
     ]
    }
   ],
   "source": [
    "choice = 1\n",
    "for i in range(int(total)):\n",
    "    if(target!=arr[i]):\n",
    "        choice+=1\n",
    "    else:\n",
    "        print(choice)"
   ]
  }
 ],
 "metadata": {
  "kernelspec": {
   "display_name": "Python 3",
   "language": "python",
   "name": "python3"
  },
  "language_info": {
   "codemirror_mode": {
    "name": "ipython",
    "version": 3
   },
   "file_extension": ".py",
   "mimetype": "text/x-python",
   "name": "python",
   "nbconvert_exporter": "python",
   "pygments_lexer": "ipython3",
   "version": "3.7.4"
  }
 },
 "nbformat": 4,
 "nbformat_minor": 2
}
