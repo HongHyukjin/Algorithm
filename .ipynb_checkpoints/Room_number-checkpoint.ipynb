{
 "cells": [
  {
   "cell_type": "code",
   "execution_count": 19,
   "metadata": {},
   "outputs": [
    {
     "name": "stdout",
     "output_type": "stream",
     "text": [
      "1299999999\n"
     ]
    }
   ],
   "source": [
    "num = input()"
   ]
  },
  {
   "cell_type": "code",
   "execution_count": 20,
   "metadata": {},
   "outputs": [
    {
     "name": "stdout",
     "output_type": "stream",
     "text": [
      "[1, 2, 9, 9, 9, 9, 9, 9, 9, 9]\n"
     ]
    }
   ],
   "source": [
    "split = []\n",
    "\n",
    "for i in range(len(num)):\n",
    "    split.append(num[i])\n",
    "    split[i] = int(split[i])\n",
    "    \n",
    "print(split)"
   ]
  },
  {
   "cell_type": "code",
   "execution_count": 23,
   "metadata": {},
   "outputs": [
    {
     "name": "stdout",
     "output_type": "stream",
     "text": [
      "[0, 1, 1, 0, 0, 0, 0, 0, 0, 8]\n",
      "1\n",
      "4\n"
     ]
    }
   ],
   "source": [
    "#전체 넘버별 개수\n",
    "number = []\n",
    "\n",
    "for i in range(10):\n",
    "    number.append(split.count(i))\n",
    "\n",
    "print(number)\n",
    "    \n",
    "minnum = number[0]\n",
    "for i in range(10):\n",
    "    if(i>0 and i!=6 and i!=9 and number[i]>minnum):\n",
    "        minnum = number[i]    \n",
    "    \n",
    "num6_9 = (split.count(6)+split.count(9))//2\n",
    "if((split.count(6)+split.count(9))%2 == 1):\n",
    "    num6_9+=1\n",
    "\n",
    "print(minnum)\n",
    "print(num6_9)"
   ]
  },
  {
   "cell_type": "code",
   "execution_count": 24,
   "metadata": {},
   "outputs": [
    {
     "name": "stdout",
     "output_type": "stream",
     "text": [
      "4\n"
     ]
    }
   ],
   "source": [
    "if(minnum<num6_9):\n",
    "    minnum+=(num6_9-minnum)\n",
    "    print(minnum)\n",
    "else:\n",
    "    print(minnum)"
   ]
  }
 ],
 "metadata": {
  "kernelspec": {
   "display_name": "Python 3",
   "language": "python",
   "name": "python3"
  },
  "language_info": {
   "codemirror_mode": {
    "name": "ipython",
    "version": 3
   },
   "file_extension": ".py",
   "mimetype": "text/x-python",
   "name": "python",
   "nbconvert_exporter": "python",
   "pygments_lexer": "ipython3",
   "version": "3.7.6"
  }
 },
 "nbformat": 4,
 "nbformat_minor": 2
}
