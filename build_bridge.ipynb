{
 "cells": [
  {
   "cell_type": "markdown",
   "metadata": {},
   "source": [
    "출력함수정의"
   ]
  },
  {
   "cell_type": "code",
   "execution_count": 66,
   "metadata": {},
   "outputs": [],
   "source": [
    "def print_case(w,e):\n",
    "    result = 1\n",
    "    react = w\n",
    "    for i in range(w):\n",
    "        result *= e\n",
    "        e-=1\n",
    "    print(result)\n",
    "    for i in range(e,0,-1):\n",
    "        result = result // react\n",
    "        react -= 1\n",
    "        if(react==0):\n",
    "            break\n",
    "    print(result)\n",
    "    print('final : ',result)"
   ]
  },
  {
   "cell_type": "markdown",
   "metadata": {},
   "source": [
    "테스트케이스 입력받기"
   ]
  },
  {
   "cell_type": "code",
   "execution_count": 67,
   "metadata": {},
   "outputs": [
    {
     "name": "stdout",
     "output_type": "stream",
     "text": [
      "테스트 케이스 : 3\n"
     ]
    }
   ],
   "source": [
    "test_case = int(input(\"테스트 케이스 : \"))"
   ]
  },
  {
   "cell_type": "markdown",
   "metadata": {},
   "source": [
    "최고 다리건설개수 출력하기"
   ]
  },
  {
   "cell_type": "code",
   "execution_count": 68,
   "metadata": {},
   "outputs": [
    {
     "name": "stdout",
     "output_type": "stream",
     "text": [
      "서쪽다리 : 2\n",
      "동쪽다리 : 2\n",
      "2\n",
      "2\n",
      "final :  2\n",
      "서쪽다리 : 1\n",
      "동쪽다리 : 5\n",
      "5\n",
      "5\n",
      "final :  5\n",
      "서쪽다리 : 13\n",
      "동쪽다리 : 29\n",
      "422590010274432000\n",
      "67863915\n",
      "final :  67863915\n"
     ]
    }
   ],
   "source": [
    "west_pivot = list()\n",
    "east = list()\n",
    "\n",
    "for i in range(test_case):\n",
    "    west_pivot.append(int(input(\"서쪽다리 : \")))\n",
    "    east.append(int(input(\"동쪽다리 : \")))\n",
    "    print_case(west_pivot[i],east[i])"
   ]
  }
 ],
 "metadata": {
  "kernelspec": {
   "display_name": "Python 3",
   "language": "python",
   "name": "python3"
  },
  "language_info": {
   "codemirror_mode": {
    "name": "ipython",
    "version": 3
   },
   "file_extension": ".py",
   "mimetype": "text/x-python",
   "name": "python",
   "nbconvert_exporter": "python",
   "pygments_lexer": "ipython3",
   "version": "3.7.6"
  }
 },
 "nbformat": 4,
 "nbformat_minor": 2
}
