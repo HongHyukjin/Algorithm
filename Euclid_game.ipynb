{
 "cells": [
  {
   "cell_type": "code",
   "execution_count": 15,
   "metadata": {},
   "outputs": [
    {
     "name": "stdout",
     "output_type": "stream",
     "text": [
      "34 12\n",
      "15 24\n",
      "0 0\n",
      "[[34, 12], [15, 24]]\n"
     ]
    }
   ],
   "source": [
    "case = []#동혁, 동규 각 케이스별 첫 수 리스트\n",
    "while(1):\n",
    "    hyeok, gyu = input().split()\n",
    "    if((hyeok == gyu) and (hyeok == '0')):\n",
    "        break\n",
    "    else:\n",
    "        hyeok = int(hyeok)\n",
    "        gyu = int(gyu)\n",
    "        case.append([hyeok,gyu])\n",
    "        \n",
    "print(case)"
   ]
  },
  {
   "cell_type": "code",
   "execution_count": 16,
   "metadata": {},
   "outputs": [],
   "source": [
    "def optimize_game(x,y,scd):\n",
    "    if(y>x):#뒤가 더크면 정렬\n",
    "        tmp = y\n",
    "        y = x\n",
    "        x = tmp\n",
    "    print('%d , %d'%(x,y))\n",
    "    if(y!=0):\n",
    "        o=x//y\n",
    "        x-=o*y\n",
    "        scd += 1\n",
    "        return x,y,scd\n",
    "    else:\n",
    "        if(scd % 2 != 0):\n",
    "            print('A wins')\n",
    "        elif(scd % 2 == 0):\n",
    "            print('B wins')\n",
    "        return x,y,scd"
   ]
  },
  {
   "cell_type": "code",
   "execution_count": 17,
   "metadata": {},
   "outputs": [
    {
     "name": "stdout",
     "output_type": "stream",
     "text": [
      "34 , 12\n",
      "1\n",
      "12 , 10\n",
      "2\n",
      "10 , 2\n",
      "3\n",
      "2 , 0\n",
      "A wins\n",
      "3\n",
      "24 , 15\n",
      "1\n",
      "15 , 9\n",
      "2\n",
      "9 , 6\n",
      "3\n",
      "6 , 3\n",
      "4\n",
      "3 , 0\n",
      "B wins\n",
      "4\n"
     ]
    }
   ],
   "source": [
    "for i in range(len(case)):\n",
    "    result = 0\n",
    "    while(1):\n",
    "        case[i][0],case[i][1],result = optimize_game(case[i][0],case[i][1],result)\n",
    "        print(result)\n",
    "        if(case[i][1] == 0):\n",
    "            break"
   ]
  }
 ],
 "metadata": {
  "kernelspec": {
   "display_name": "Python 3",
   "language": "python",
   "name": "python3"
  },
  "language_info": {
   "codemirror_mode": {
    "name": "ipython",
    "version": 3
   },
   "file_extension": ".py",
   "mimetype": "text/x-python",
   "name": "python",
   "nbconvert_exporter": "python",
   "pygments_lexer": "ipython3",
   "version": "3.7.6"
  }
 },
 "nbformat": 4,
 "nbformat_minor": 2
}
