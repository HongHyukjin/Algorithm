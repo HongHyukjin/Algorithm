{
 "cells": [
  {
   "cell_type": "code",
   "execution_count": 1,
   "metadata": {},
   "outputs": [],
   "source": [
    "import random"
   ]
  },
  {
   "cell_type": "markdown",
   "metadata": {},
   "source": [
    "#대상 배열 준비(랜덤배열)"
   ]
  },
  {
   "cell_type": "code",
   "execution_count": 138,
   "metadata": {},
   "outputs": [
    {
     "name": "stdout",
     "output_type": "stream",
     "text": [
      "[15, 54, 86, 34, 100, 79, 84, 55, 8, 66, 63, 59, 12, 78, 43, 10, 100, 57, 33, 93, 57, 48, 92, 35, 48, 27, 18, 64, 81, 55, 48, 83, 23, 54, 84, 46, 52, 80, 89, 97, 65, 42, 77, 19, 53, 22, 60, 66, 74, 95, 28, 16, 20, 37, 59, 68, 89, 39, 96, 25, 76, 23, 73, 9, 31, 78, 65, 29, 60, 70, 77, 11, 20, 73, 55, 43, 83, 77, 20, 43, 61, 94, 2, 27, 69, 42, 93, 71, 24, 97, 86, 81, 68, 99, 60, 68, 6, 84, 41, 5]\n"
     ]
    }
   ],
   "source": [
    "arr = []\n",
    "for i in range(100):\n",
    "    arr.append(random.randint(1,100))\n",
    "    \n",
    "print(arr)"
   ]
  },
  {
   "cell_type": "code",
   "execution_count": 139,
   "metadata": {},
   "outputs": [],
   "source": [
    "def merge_sort(list):\n",
    "    if len(list) <= 1:\n",
    "        return list\n",
    "    mid = len(list) // 2\n",
    "    leftList = list[:mid]\n",
    "    rightList = list[mid:]\n",
    "    leftList = merge_sort(leftList)\n",
    "    rightList = merge_sort(rightList)\n",
    "    return merge(leftList, rightList)"
   ]
  },
  {
   "cell_type": "code",
   "execution_count": 140,
   "metadata": {},
   "outputs": [],
   "source": [
    "def merge(left, right):\n",
    "    result = []\n",
    "    while len(left) > 0 or len(right) > 0:\n",
    "        if len(left) > 0 and len(right) > 0:\n",
    "            if left[0] <= right[0]:\n",
    "                result.append(left[0])\n",
    "                left = left[1:]\n",
    "            else:\n",
    "                result.append(right[0])\n",
    "                right = right[1:]\n",
    "        elif len(left) > 0:\n",
    "            result.append(left[0])\n",
    "            left = left[1:]\n",
    "        elif len(right) > 0:\n",
    "            result.append(right[0])\n",
    "            right = right[1:]\n",
    "    return result"
   ]
  },
  {
   "cell_type": "code",
   "execution_count": 141,
   "metadata": {},
   "outputs": [
    {
     "name": "stdout",
     "output_type": "stream",
     "text": [
      "[2, 5, 6, 8, 9, 10, 11, 12, 15, 16, 18, 19, 20, 20, 20, 22, 23, 23, 24, 25, 27, 27, 28, 29, 31, 33, 34, 35, 37, 39, 41, 42, 42, 43, 43, 43, 46, 48, 48, 48, 52, 53, 54, 54, 55, 55, 55, 57, 57, 59, 59, 60, 60, 60, 61, 63, 64, 65, 65, 66, 66, 68, 68, 68, 69, 70, 71, 73, 73, 74, 76, 77, 77, 77, 78, 78, 79, 80, 81, 81, 83, 83, 84, 84, 84, 86, 86, 89, 89, 92, 93, 93, 94, 95, 96, 97, 97, 99, 100, 100]\n"
     ]
    }
   ],
   "source": [
    "arr = merge_sort(arr)\n",
    "print(arr)"
   ]
  },
  {
   "cell_type": "code",
   "execution_count": null,
   "metadata": {},
   "outputs": [],
   "source": []
  }
 ],
 "metadata": {
  "kernelspec": {
   "display_name": "Python 3",
   "language": "python",
   "name": "python3"
  },
  "language_info": {
   "codemirror_mode": {
    "name": "ipython",
    "version": 3
   },
   "file_extension": ".py",
   "mimetype": "text/x-python",
   "name": "python",
   "nbconvert_exporter": "python",
   "pygments_lexer": "ipython3",
   "version": "3.7.6"
  }
 },
 "nbformat": 4,
 "nbformat_minor": 2
}
