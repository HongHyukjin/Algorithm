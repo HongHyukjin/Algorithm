{
 "cells": [
  {
   "cell_type": "raw",
   "metadata": {},
   "source": [
    "백준 1475 : 방 번호\n",
    "다솜이는 은진이의 옆집에 새로 이사왔다. \n",
    "다솜이는 자기 방 번호를 예쁜 플라스틱 숫자로 문에 붙이려고 한다.\n",
    "다솜이의 옆집에서는 플라스틱 숫자를 한 세트로 판다. \n",
    "한 세트에는 0번부터 9번까지 숫자가 하나씩 들어있다. \n",
    "다솜이의 방 번호가 주어졌을 때, 필요한 세트의 개수의 최솟값을 출력하시오. \n",
    "(6은 9를 뒤집어서 이용할 수 있고, 9는 6을 뒤집어서 이용할 수 있다.)"
   ]
  },
  {
   "cell_type": "raw",
   "metadata": {},
   "source": [
    "문제해결\n",
    "1.데이터 입력(리스트 정리화)\n",
    "2.숫자별 개수 정리 리스트생성\n",
    "3.6,9는 따로 정리하여 총합의 //2 시행\n",
    "4.각 숫자의 최댓값과 6,9연산 결괏값 도출\n",
    "5.크기비교 및 이를 통한 케이스 분류를 통해 결과 도출"
   ]
  },
  {
   "cell_type": "code",
   "execution_count": 19,
   "metadata": {},
   "outputs": [
    {
     "name": "stdout",
     "output_type": "stream",
     "text": [
      "1299999999\n"
     ]
    }
   ],
   "source": [
    "num = input()"
   ]
  },
  {
   "cell_type": "code",
   "execution_count": 20,
   "metadata": {},
   "outputs": [
    {
     "name": "stdout",
     "output_type": "stream",
     "text": [
      "[1, 2, 9, 9, 9, 9, 9, 9, 9, 9]\n"
     ]
    }
   ],
   "source": [
    "split = []\n",
    "\n",
    "for i in range(len(num)):\n",
    "    split.append(num[i])\n",
    "    split[i] = int(split[i])\n",
    "    \n",
    "print(split)"
   ]
  },
  {
   "cell_type": "code",
   "execution_count": 23,
   "metadata": {},
   "outputs": [
    {
     "name": "stdout",
     "output_type": "stream",
     "text": [
      "[0, 1, 1, 0, 0, 0, 0, 0, 0, 8]\n",
      "1\n",
      "4\n"
     ]
    }
   ],
   "source": [
    "#전체 넘버별 개수\n",
    "number = []\n",
    "\n",
    "for i in range(10):\n",
    "    number.append(split.count(i))\n",
    "\n",
    "print(number)\n",
    "    \n",
    "minnum = number[0]\n",
    "for i in range(10):\n",
    "    if(i>0 and i!=6 and i!=9 and number[i]>minnum):\n",
    "        minnum = number[i]    \n",
    "    \n",
    "num6_9 = (split.count(6)+split.count(9))//2\n",
    "if((split.count(6)+split.count(9))%2 == 1):\n",
    "    num6_9+=1\n",
    "\n",
    "print(minnum)\n",
    "print(num6_9)"
   ]
  },
  {
   "cell_type": "code",
   "execution_count": 24,
   "metadata": {},
   "outputs": [
    {
     "name": "stdout",
     "output_type": "stream",
     "text": [
      "4\n"
     ]
    }
   ],
   "source": [
    "if(minnum<num6_9):\n",
    "    minnum+=(num6_9-minnum)\n",
    "    print(minnum)\n",
    "else:\n",
    "    print(minnum)"
   ]
  }
 ],
 "metadata": {
  "kernelspec": {
   "display_name": "Python 3",
   "language": "python",
   "name": "python3"
  },
  "language_info": {
   "codemirror_mode": {
    "name": "ipython",
    "version": 3
   },
   "file_extension": ".py",
   "mimetype": "text/x-python",
   "name": "python",
   "nbconvert_exporter": "python",
   "pygments_lexer": "ipython3",
   "version": "3.7.6"
  }
 },
 "nbformat": 4,
 "nbformat_minor": 2
}
