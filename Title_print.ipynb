{
 "cells": [
  {
   "cell_type": "code",
   "execution_count": 96,
   "metadata": {},
   "outputs": [
    {
     "name": "stdout",
     "output_type": "stream",
     "text": [
      "120\n",
      "5611\n",
      "100\n",
      "0\n",
      "['120', '5611', '100']\n"
     ]
    }
   ],
   "source": [
    "arr = []\n",
    "while(True):\n",
    "    arr.append(input())\n",
    "    if(arr.count('0')>0):\n",
    "        arr.remove('0')\n",
    "        break\n",
    "print(arr)"
   ]
  },
  {
   "cell_type": "code",
   "execution_count": 97,
   "metadata": {},
   "outputs": [],
   "source": [
    "def convert_to_sololist(x,length):\n",
    "    div = 0\n",
    "    out = []\n",
    "    for i in range(length-1,-1,-1):\n",
    "        div = 10**i\n",
    "        out.append(x//div)\n",
    "        x %= div\n",
    "    print(out)\n",
    "    return out"
   ]
  },
  {
   "cell_type": "code",
   "execution_count": 98,
   "metadata": {},
   "outputs": [
    {
     "name": "stdout",
     "output_type": "stream",
     "text": [
      "[1, 2, 0]\n",
      "[5, 6, 1, 1]\n",
      "[1, 0, 0]\n",
      "[[1, 2, 0], [5, 6, 1, 1], [1, 0, 0]]\n"
     ]
    }
   ],
   "source": [
    "for i in range(len(arr)):\n",
    "    arr_length = len(arr[i])\n",
    "    arr[i] = int(arr[i])\n",
    "    arr[i] = convert_to_sololist(arr[i],arr_length)\n",
    "print(arr)"
   ]
  },
  {
   "cell_type": "code",
   "execution_count": 99,
   "metadata": {},
   "outputs": [
    {
     "name": "stdout",
     "output_type": "stream",
     "text": [
      "count = 2\n",
      "1\n",
      "count = 5\n",
      "2\n",
      "count = 9\n",
      "0\n",
      "공백:4\n",
      "13\n",
      "count = 3\n",
      "5\n",
      "count = 6\n",
      "6\n",
      "count = 8\n",
      "1\n",
      "count = 10\n",
      "1\n",
      "공백:5\n",
      "15\n",
      "count = 2\n",
      "1\n",
      "count = 6\n",
      "0\n",
      "count = 10\n",
      "0\n",
      "공백:4\n",
      "14\n"
     ]
    }
   ],
   "source": [
    "for i in range(len(arr)):\n",
    "    count = 0\n",
    "    for j in range(len(arr[i])):\n",
    "        if(arr[i][j]==1 or arr[i][j]==0):\n",
    "            if(arr[i][j]==1):\n",
    "                count+=2\n",
    "            else:\n",
    "                count+=4\n",
    "        else:\n",
    "            count+=3\n",
    "        print('count = %d'%count)\n",
    "        print(arr[i][j])\n",
    "    print('공백:%d'%(len(arr[i])+1))\n",
    "    count+=(len(arr[i])+1)\n",
    "    arr[i] = count\n",
    "    print(arr[i])"
   ]
  },
  {
   "cell_type": "code",
   "execution_count": 100,
   "metadata": {},
   "outputs": [
    {
     "name": "stdout",
     "output_type": "stream",
     "text": [
      "[13, 15, 14]\n"
     ]
    }
   ],
   "source": [
    "print(arr)"
   ]
  }
 ],
 "metadata": {
  "kernelspec": {
   "display_name": "Python 3",
   "language": "python",
   "name": "python3"
  },
  "language_info": {
   "codemirror_mode": {
    "name": "ipython",
    "version": 3
   },
   "file_extension": ".py",
   "mimetype": "text/x-python",
   "name": "python",
   "nbconvert_exporter": "python",
   "pygments_lexer": "ipython3",
   "version": "3.7.6"
  }
 },
 "nbformat": 4,
 "nbformat_minor": 2
}
