{
 "cells": [
  {
   "cell_type": "raw",
   "metadata": {},
   "source": [
    "SCPC 1 : 숫자 골라내기\n",
    "\n",
    "초등학교교 학생인 정우와 석환이는 최근 학교에서 두 이진수의 XOR 연산에 대해 배웠다.\n",
    "둘은 매우 영특한 학생이라 새로 배운 연산을 갖고 이리저리 장난치기 시작했다.\n",
    "다만 석환이는 정우에게 일을 시키는 것을 좋아하는지라 다음과 같은 제안을 했다.\n",
    "내가 N개의 10진수를 주면, 등장하는 숫자들 중 홀수번만 나타나는 숫자들을 모두 XOR한 결과를 구해줘.”\n",
    "예를 들어 '2, 5, 3, 3' 이 주어질 경우, '2'와'5'는 1번(홀수 번) 나타나고 '3' 은 2번 (짝수 번) 나타나므로\n",
    "홀수 번 나타난 '2' 와 '5'를 XOR 한 결과를 구해야 하고,\n",
    "'2, 5, 3, 3, 2, 4, 5, 3' 이 주어질 경우 '2' 와 '5' 는 2번 나타나고, '3' 은 3번, '4' 는 1번 나타나므로\n",
    "홀수 번 나타난 '3' 과 '4'를 XOR 한 결과를 구해야 한다.\n",
    "정우는 제안을 수락했지만, 가면 갈수록 매번 XOR 연산을 수행하는 일에 지치고 있다.\n",
    "정우를 도와서 주어 진 문제를 해결하는 프로그램을 작성하라."
   ]
  },
  {
   "cell_type": "raw",
   "metadata": {},
   "source": [
    "문제해결\n",
    "1.데이터입력부\n",
    "2.배열내 홀수개수인 원소 골라내기\n",
    "3.골라낸 원소끼리 XOR진행\n",
    "4.결과출력"
   ]
  },
  {
   "cell_type": "code",
   "execution_count": 10,
   "metadata": {},
   "outputs": [
    {
     "name": "stdout",
     "output_type": "stream",
     "text": [
      "1 2 2 3 3 3 4 4 4 4 5 5 5 5 5\n"
     ]
    }
   ],
   "source": [
    "origin = input().split()\n",
    "for i in range(len(origin)):\n",
    "    origin[i] = int(origin[i])"
   ]
  },
  {
   "cell_type": "code",
   "execution_count": 11,
   "metadata": {},
   "outputs": [
    {
     "name": "stdout",
     "output_type": "stream",
     "text": [
      "[1, 2, 2, 3, 3, 3, 4, 4, 4, 4, 5, 5, 5, 5, 5]\n"
     ]
    }
   ],
   "source": [
    "numlist = []\n",
    "\n",
    "for i in range(len(origin)):\n",
    "    numlist.append(origin.count(origin[i]))\n",
    "    \n",
    "print(numlist)"
   ]
  },
  {
   "cell_type": "code",
   "execution_count": 27,
   "metadata": {},
   "outputs": [
    {
     "name": "stdout",
     "output_type": "stream",
     "text": [
      "[1, 3, 5]\n"
     ]
    }
   ],
   "source": [
    "target = []\n",
    "remove_cycle = 0\n",
    "\n",
    "for i in range(len(numlist)):\n",
    "    if(numlist[i] % 2 == 1):#홀수개수면\n",
    "        target.append(origin[i])\n",
    "\n",
    "target = list(set(target))\n",
    "print(target)"
   ]
  },
  {
   "cell_type": "code",
   "execution_count": 32,
   "metadata": {},
   "outputs": [
    {
     "name": "stdout",
     "output_type": "stream",
     "text": [
      "7\n"
     ]
    }
   ],
   "source": [
    "result = target[0]\n",
    "\n",
    "for i in range(1,len(target)):\n",
    "    result ^= target[i]\n",
    "    \n",
    "print(result)"
   ]
  }
 ],
 "metadata": {
  "kernelspec": {
   "display_name": "Python 3",
   "language": "python",
   "name": "python3"
  },
  "language_info": {
   "codemirror_mode": {
    "name": "ipython",
    "version": 3
   },
   "file_extension": ".py",
   "mimetype": "text/x-python",
   "name": "python",
   "nbconvert_exporter": "python",
   "pygments_lexer": "ipython3",
   "version": "3.7.4"
  }
 },
 "nbformat": 4,
 "nbformat_minor": 2
}
