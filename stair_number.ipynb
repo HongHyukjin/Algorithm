{
 "cells": [
  {
   "cell_type": "code",
   "execution_count": 70,
   "metadata": {},
   "outputs": [
    {
     "name": "stdout",
     "output_type": "stream",
     "text": [
      "100\n"
     ]
    }
   ],
   "source": [
    "target = input()"
   ]
  },
  {
   "cell_type": "code",
   "execution_count": 71,
   "metadata": {},
   "outputs": [],
   "source": [
    "def judge(num):\n",
    "    num = str(num)\n",
    "    indure = False\n",
    "    for i in range(len(num)-1):\n",
    "        if abs(int(num[i])-int(num[i+1]))==1:\n",
    "            indure = True\n",
    "        else:\n",
    "            indure = False\n",
    "            return indure\n",
    "    return indure"
   ]
  },
  {
   "cell_type": "code",
   "execution_count": 72,
   "metadata": {},
   "outputs": [],
   "source": [
    "def judge_all(num):\n",
    "    length = int(num)\n",
    "    result = 0\n",
    "    if(length==1):\n",
    "        result = 9\n",
    "        return result\n",
    "    else:\n",
    "        #반복 제한\n",
    "        iteration = 10**int(target)\n",
    "        #계단 수 체크변수\n",
    "        result = 0\n",
    "        for i in range(iteration):\n",
    "            if(judge(i)):\n",
    "                result+=1\n",
    "        return result"
   ]
  },
  {
   "cell_type": "code",
   "execution_count": null,
   "metadata": {},
   "outputs": [],
   "source": [
    "result = judge_all(target)\n",
    "print(result)"
   ]
  }
 ],
 "metadata": {
  "kernelspec": {
   "display_name": "Python 3",
   "language": "python",
   "name": "python3"
  },
  "language_info": {
   "codemirror_mode": {
    "name": "ipython",
    "version": 3
   },
   "file_extension": ".py",
   "mimetype": "text/x-python",
   "name": "python",
   "nbconvert_exporter": "python",
   "pygments_lexer": "ipython3",
   "version": "3.6.9"
  }
 },
 "nbformat": 4,
 "nbformat_minor": 4
}
