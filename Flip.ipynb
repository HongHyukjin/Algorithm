{
 "cells": [
  {
   "cell_type": "code",
   "execution_count": 17,
   "metadata": {},
   "outputs": [
    {
     "name": "stdout",
     "output_type": "stream",
     "text": [
      "0001100\n",
      "0001100\n"
     ]
    }
   ],
   "source": [
    "data = input()\n",
    "print(data)"
   ]
  },
  {
   "cell_type": "code",
   "execution_count": 31,
   "metadata": {},
   "outputs": [
    {
     "name": "stdout",
     "output_type": "stream",
     "text": [
      "0001100\n"
     ]
    }
   ],
   "source": [
    "datac = data\n",
    "print(datac)"
   ]
  },
  {
   "cell_type": "code",
   "execution_count": 32,
   "metadata": {},
   "outputs": [
    {
     "name": "stdout",
     "output_type": "stream",
     "text": [
      "1\n"
     ]
    }
   ],
   "source": [
    "flag = 0\n",
    "target_idx = []\n",
    "pivot = 0\n",
    "\n",
    "for i in range(len(datac)):\n",
    "    if(i>0 and datac[i]!=datac[i-1]):\n",
    "        flag+=1\n",
    "        target_idx.append(i)\n",
    "\n",
    "for i in range(len(target_idx)):\n",
    "    target_idx[i] = int(target_idx[i])\n",
    "        \n",
    "if(flag%2==0):\n",
    "    pivot = datac[target_idx[0]]\n",
    "else:\n",
    "    pivot = datac[target_idx[1]]\n",
    "    \n",
    "print(pivot)"
   ]
  },
  {
   "cell_type": "code",
   "execution_count": 36,
   "metadata": {},
   "outputs": [
    {
     "name": "stdout",
     "output_type": "stream",
     "text": [
      "0001100\n",
      "1\n",
      "2\n",
      "[3, 5]\n"
     ]
    }
   ],
   "source": [
    "print(datac)\n",
    "print(pivot)\n",
    "print(flag)\n",
    "print(target_idx)"
   ]
  },
  {
   "cell_type": "code",
   "execution_count": null,
   "metadata": {},
   "outputs": [],
   "source": []
  }
 ],
 "metadata": {
  "kernelspec": {
   "display_name": "Python 3",
   "language": "python",
   "name": "python3"
  },
  "language_info": {
   "codemirror_mode": {
    "name": "ipython",
    "version": 3
   },
   "file_extension": ".py",
   "mimetype": "text/x-python",
   "name": "python",
   "nbconvert_exporter": "python",
   "pygments_lexer": "ipython3",
   "version": "3.7.6"
  }
 },
 "nbformat": 4,
 "nbformat_minor": 2
}
