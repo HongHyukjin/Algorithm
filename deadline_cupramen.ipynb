{
 "cells": [
  {
   "cell_type": "code",
   "execution_count": 5,
   "metadata": {},
   "outputs": [
    {
     "name": "stdout",
     "output_type": "stream",
     "text": [
      "총 문제수 : 7\n"
     ]
    }
   ],
   "source": [
    "problems = int(input('총 문제수 : '))"
   ]
  },
  {
   "cell_type": "code",
   "execution_count": 27,
   "metadata": {},
   "outputs": [
    {
     "name": "stdout",
     "output_type": "stream",
     "text": [
      "데드라인과 최대컵라면1 7\n",
      "데드라인과 최대컵라면1 6\n",
      "데드라인과 최대컵라면3 2\n",
      "데드라인과 최대컵라면3 1\n",
      "데드라인과 최대컵라면2 5\n",
      "데드라인과 최대컵라면2 4\n",
      "데드라인과 최대컵라면6 1\n"
     ]
    }
   ],
   "source": [
    "dead_arr = [0]\n",
    "max_arr = [0]\n",
    "\n",
    "for i in range(problems):\n",
    "    dead, max = input('데드라인과 최대컵라면').split()\n",
    "    dead_arr.append(dead)\n",
    "    max_arr.append(max)\n",
    "\n",
    "dead_arr.remove(0)\n",
    "max_arr.remove(0)"
   ]
  },
  {
   "cell_type": "code",
   "execution_count": 37,
   "metadata": {},
   "outputs": [
    {
     "name": "stdout",
     "output_type": "stream",
     "text": [
      "[1, 1, 3, 3, 2, 2, 6] [7, 6, 2, 1, 5, 4, 1]\n"
     ]
    }
   ],
   "source": [
    "print(dead_arr, max_arr)"
   ]
  }
 ],
 "metadata": {
  "kernelspec": {
   "display_name": "Python 3",
   "language": "python",
   "name": "python3"
  },
  "language_info": {
   "codemirror_mode": {
    "name": "ipython",
    "version": 3
   },
   "file_extension": ".py",
   "mimetype": "text/x-python",
   "name": "python",
   "nbconvert_exporter": "python",
   "pygments_lexer": "ipython3",
   "version": "3.7.6"
  }
 },
 "nbformat": 4,
 "nbformat_minor": 2
}
