{
 "cells": [
  {
   "cell_type": "code",
   "execution_count": 4,
   "metadata": {},
   "outputs": [
    {
     "name": "stdout",
     "output_type": "stream",
     "text": [
      "총 컴퓨터 수 :7\n",
      "총 연결쌍 수 :6\n"
     ]
    }
   ],
   "source": [
    "total = int(input('총 컴퓨터 수 :'))\n",
    "pair = int(input('총 연결쌍 수 :'))"
   ]
  },
  {
   "cell_type": "code",
   "execution_count": 5,
   "metadata": {},
   "outputs": [
    {
     "name": "stdout",
     "output_type": "stream",
     "text": [
      "1 2\n",
      "2 3\n",
      "1 5\n",
      "5 2\n",
      "5 6\n",
      "4 7\n",
      "[[1, 2], [2, 3], [1, 5], [5, 2], [5, 6], [4, 7]]\n"
     ]
    }
   ],
   "source": [
    "connect = []\n",
    "for i in range(pair):\n",
    "    tmp = input().split()\n",
    "    for j in range(len(tmp)):\n",
    "        tmp[j] = int(tmp[j])\n",
    "    connect.append(tmp)\n",
    "print(connect)"
   ]
  },
  {
   "cell_type": "code",
   "execution_count": 18,
   "metadata": {},
   "outputs": [
    {
     "name": "stdout",
     "output_type": "stream",
     "text": [
      "4\n"
     ]
    }
   ],
   "source": [
    "infested = connect\n",
    "for i in range(len(connect)):\n",
    "    for j in range(len(connect[0])):\n",
    "        if(connect[i][j] == 1):\n",
    "            infested[i][j-1] = True\n",
    "        elif(infested[i][j] == True):\n",
    "            infested[i][j-1] = True\n",
    "\n",
    "result = 0\n",
    "for i in range(len(connect)):\n",
    "    for j in range(len(connect[0])):\n",
    "        if(connect[i][j] == True):\n",
    "            result+=1\n",
    "            \n",
    "print(result)"
   ]
  }
 ],
 "metadata": {
  "kernelspec": {
   "display_name": "Python 3",
   "language": "python",
   "name": "python3"
  },
  "language_info": {
   "codemirror_mode": {
    "name": "ipython",
    "version": 3
   },
   "file_extension": ".py",
   "mimetype": "text/x-python",
   "name": "python",
   "nbconvert_exporter": "python",
   "pygments_lexer": "ipython3",
   "version": "3.7.6"
  }
 },
 "nbformat": 4,
 "nbformat_minor": 2
}
