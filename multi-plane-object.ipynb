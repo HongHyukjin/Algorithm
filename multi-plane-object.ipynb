{
 "cells": [
  {
   "cell_type": "code",
   "execution_count": 14,
   "metadata": {},
   "outputs": [],
   "source": [
    "def flat(point, edge):\n",
    "    result = edge - point + 2\n",
    "    return result"
   ]
  },
  {
   "cell_type": "code",
   "execution_count": 15,
   "metadata": {},
   "outputs": [],
   "source": [
    "def integer_transform(point, edge):\n",
    "    point = int(point)\n",
    "    edge = int(edge)\n",
    "    return point, edge"
   ]
  },
  {
   "cell_type": "code",
   "execution_count": 24,
   "metadata": {},
   "outputs": [
    {
     "name": "stdout",
     "output_type": "stream",
     "text": [
      "케이스 개수 : 2\n",
      "꼭짓점과 모서리 : 8 12\n",
      "꼭짓점과 모서리 : 4 6\n",
      "[8, 4] [12, 6]\n"
     ]
    }
   ],
   "source": [
    "case = int(input('케이스 개수 : '))\n",
    "point = [0 for i in range(case)]\n",
    "edge = [0 for i in range(case)]\n",
    "result = [0 for i in range(case)]\n",
    "\n",
    "for i in range(case):\n",
    "    point[i], edge[i] = input('꼭짓점과 모서리 : ').split()\n",
    "    point[i], edge[i] = integer_transform(point[i], edge[i])\n",
    "    \n",
    "print(point, edge)"
   ]
  },
  {
   "cell_type": "code",
   "execution_count": 25,
   "metadata": {},
   "outputs": [
    {
     "name": "stdout",
     "output_type": "stream",
     "text": [
      "[6, 4]\n"
     ]
    }
   ],
   "source": [
    "for i in range(case):\n",
    "    result[i] = flat(point[i], edge[i])\n",
    "\n",
    "print(result)"
   ]
  }
 ],
 "metadata": {
  "kernelspec": {
   "display_name": "Python 3",
   "language": "python",
   "name": "python3"
  },
  "language_info": {
   "codemirror_mode": {
    "name": "ipython",
    "version": 3
   },
   "file_extension": ".py",
   "mimetype": "text/x-python",
   "name": "python",
   "nbconvert_exporter": "python",
   "pygments_lexer": "ipython3",
   "version": "3.7.6"
  }
 },
 "nbformat": 4,
 "nbformat_minor": 2
}
