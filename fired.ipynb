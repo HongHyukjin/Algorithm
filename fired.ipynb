{
 "cells": [
  {
   "cell_type": "code",
   "execution_count": 4,
   "metadata": {},
   "outputs": [
    {
     "name": "stdout",
     "output_type": "stream",
     "text": [
      "7\n",
      "3 10\n",
      "5 20\n",
      "1 10\n",
      "1 20\n",
      "2 15\n",
      "4 40\n",
      "2 200\n",
      "[['3', '10'], ['5', '20'], ['1', '10'], ['1', '20'], ['2', '15'], ['4', '40'], ['2', '200']]\n"
     ]
    }
   ],
   "source": [
    "n = input()\n",
    "n = int(n)\n",
    "arr = []\n",
    "t = []\n",
    "p = []\n",
    "\n",
    "for i in range(n):\n",
    "    arr.append(input().split())\n",
    "print(arr)"
   ]
  },
  {
   "cell_type": "code",
   "execution_count": 5,
   "metadata": {},
   "outputs": [
    {
     "name": "stdout",
     "output_type": "stream",
     "text": [
      "[3, 5, 1, 1, 2, 4, 2] [10, 20, 10, 20, 15, 40, 200]\n"
     ]
    }
   ],
   "source": [
    "for i in range(n):\n",
    "    t.append(int(arr[i][0]))\n",
    "    p.append(int(arr[i][1]))\n",
    "print(t,p)"
   ]
  },
  {
   "cell_type": "code",
   "execution_count": 6,
   "metadata": {},
   "outputs": [],
   "source": [
    "#가능상담가지치기>>날짜 조합>>수익 배열>>최우수도출"
   ]
  },
  {
   "cell_type": "code",
   "execution_count": 7,
   "metadata": {},
   "outputs": [],
   "source": [
    "def cutting(idx,term):#가능상담가지치기함수\n",
    "    if((idx+term)>6):\n",
    "        return False\n",
    "    else:\n",
    "        return True"
   ]
  },
  {
   "cell_type": "code",
   "execution_count": 8,
   "metadata": {},
   "outputs": [
    {
     "name": "stdout",
     "output_type": "stream",
     "text": [
      "[3, 5, 1, 1, 2, 0, 0]\n",
      "[10, 20, 10, 20, 15, 0, 0]\n"
     ]
    }
   ],
   "source": [
    "judge = True\n",
    "tr = []\n",
    "pr = []\n",
    "for i in range(n):\n",
    "    judge = cutting(i,t[i])\n",
    "    if(judge):\n",
    "        tr.append(t[i])\n",
    "        pr.append(p[i])\n",
    "    else:\n",
    "        tr.append(0)\n",
    "        pr.append(0)\n",
    "print(tr)\n",
    "print(pr)"
   ]
  },
  {
   "cell_type": "code",
   "execution_count": 11,
   "metadata": {},
   "outputs": [],
   "source": [
    "def date(pivot_idx,tr,n):\n",
    "    date_combi = []\n",
    "    date_combi.append(pivot_idx)\n",
    "    for i in range(n):\n",
    "        if(pivot_idx+tr[pivot_idx]<=i and type(date_combi)==None):\n",
    "            date_combi.append(i)\n",
    "        elif(pivot_idx+tr[pivot_idx]<=i and type(date_combi)==list):\n",
    "            if():"
   ]
  },
  {
   "cell_type": "code",
   "execution_count": null,
   "metadata": {},
   "outputs": [],
   "source": []
  }
 ],
 "metadata": {
  "kernelspec": {
   "display_name": "Python 3",
   "language": "python",
   "name": "python3"
  },
  "language_info": {
   "codemirror_mode": {
    "name": "ipython",
    "version": 3
   },
   "file_extension": ".py",
   "mimetype": "text/x-python",
   "name": "python",
   "nbconvert_exporter": "python",
   "pygments_lexer": "ipython3",
   "version": "3.7.6"
  }
 },
 "nbformat": 4,
 "nbformat_minor": 2
}
