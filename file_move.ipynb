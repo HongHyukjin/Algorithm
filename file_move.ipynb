{
 "cells": [
  {
   "cell_type": "raw",
   "metadata": {},
   "source": [
    "백준 11943 : 파일 옮기기\n",
    "두 개의 바구니에 사과와 오렌지가 있다. \n",
    "첫 번째 바구니에는 사과 A개와 오렌지 B개가 있으며 \n",
    "두 번째 바구니에는 사과 C개와 오렌지 D개가 있다.\n",
    "당신은 한 바구니에 있는 과일 하나를 집어서 다른 바구니로 옮길 수 있다. \n",
    "이런 식으로 과일을 옮길 때, \n",
    "한 바구니에는 사과만 있게 하고 다른 쪽에는 오렌지만 있게 하려고 한다.\n",
    "앞서 말한 조건을 만족하도록 과일을 옮길 때, \n",
    "과일을 옮기는 최소 횟수를 구하는 프로그램을 작성하여라."
   ]
  },
  {
   "cell_type": "raw",
   "metadata": {},
   "source": [
    "문제해결\n",
    "1.데이터 입력(사과 오렌지)\n",
    "2.두 바구니의 각 과일을 교차로 집합형성\n",
    "3.두 집합을 비교\n",
    "4.결과 출력"
   ]
  },
  {
   "cell_type": "code",
   "execution_count": 3,
   "metadata": {},
   "outputs": [
    {
     "name": "stdout",
     "output_type": "stream",
     "text": [
      "1 2\n",
      "3 4\n"
     ]
    }
   ],
   "source": [
    "apple = []\n",
    "orange = []\n",
    "tmp1 = 0\n",
    "tmp2 = 0\n",
    "for i in range(2):\n",
    "    tmp1, tmp2 = input().split()\n",
    "    apple.append(int(tmp1))\n",
    "    orange.append(int(tmp2))"
   ]
  },
  {
   "cell_type": "code",
   "execution_count": 4,
   "metadata": {},
   "outputs": [
    {
     "name": "stdout",
     "output_type": "stream",
     "text": [
      "5\n"
     ]
    }
   ],
   "source": [
    "sum1 = apple[0]+orange[1]\n",
    "sum2 = apple[1]+orange[0]\n",
    "\n",
    "if(sum1>sum2):\n",
    "    print(sum1)\n",
    "else:\n",
    "    print(sum2)"
   ]
  }
 ],
 "metadata": {
  "kernelspec": {
   "display_name": "Python 3",
   "language": "python",
   "name": "python3"
  },
  "language_info": {
   "codemirror_mode": {
    "name": "ipython",
    "version": 3
   },
   "file_extension": ".py",
   "mimetype": "text/x-python",
   "name": "python",
   "nbconvert_exporter": "python",
   "pygments_lexer": "ipython3",
   "version": "3.7.6"
  }
 },
 "nbformat": 4,
 "nbformat_minor": 2
}
